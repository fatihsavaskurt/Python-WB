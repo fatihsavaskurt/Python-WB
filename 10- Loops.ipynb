{
 "cells": [
  {
   "cell_type": "code",
   "execution_count": 1,
   "id": "e72b0b75",
   "metadata": {},
   "outputs": [],
   "source": [
    "# for loop, while loop.\n",
    "\n",
    "# Belli bir koşul gerçekleşene kadar, işlemin devam etmesi olayıdır."
   ]
  },
  {
   "cell_type": "code",
   "execution_count": 2,
   "id": "2ef9bdf5",
   "metadata": {},
   "outputs": [],
   "source": [
    "my_list = [10,20,30,40,50,60,70]"
   ]
  },
  {
   "cell_type": "code",
   "execution_count": 3,
   "id": "e482108c",
   "metadata": {},
   "outputs": [],
   "source": [
    "# listedeki her elemanın, 5'e bölüp 2 ile çarpılmasını istiyoruz."
   ]
  },
  {
   "cell_type": "code",
   "execution_count": 4,
   "id": "c520e097",
   "metadata": {},
   "outputs": [
    {
     "data": {
      "text/plain": [
       "4.0"
      ]
     },
     "execution_count": 4,
     "metadata": {},
     "output_type": "execute_result"
    }
   ],
   "source": [
    "my_list[0] / 5*2"
   ]
  },
  {
   "cell_type": "code",
   "execution_count": 10,
   "id": "b8006061",
   "metadata": {},
   "outputs": [
    {
     "name": "stdout",
     "output_type": "stream",
     "text": [
      "4\n",
      "8\n",
      "12\n",
      "16\n",
      "20\n",
      "24\n",
      "28\n"
     ]
    }
   ],
   "source": [
    "for num in my_list: # number, herhangi bir değişken ismi anlamına geliyor, her şey olabilir\n",
    "    print(int(num / 5*2))"
   ]
  },
  {
   "cell_type": "code",
   "execution_count": 11,
   "id": "dc5d10ed",
   "metadata": {},
   "outputs": [
    {
     "name": "stdout",
     "output_type": "stream",
     "text": [
      "4.0\n",
      "8.0\n",
      "12.0\n",
      "16.0\n",
      "20.0\n",
      "24.0\n",
      "28.0\n"
     ]
    }
   ],
   "source": [
    "for i in my_list:\n",
    "    new_number = i / 5*2\n",
    "    print(new_number)"
   ]
  },
  {
   "cell_type": "code",
   "execution_count": 12,
   "id": "6a0d92f7",
   "metadata": {},
   "outputs": [],
   "source": [
    "# my_list'te yer alan elemanlardan sadece 6'ya tam bölünenlerini yazdır."
   ]
  },
  {
   "cell_type": "code",
   "execution_count": 52,
   "id": "acab334c",
   "metadata": {},
   "outputs": [
    {
     "name": "stdout",
     "output_type": "stream",
     "text": [
      "30\n",
      "60\n"
     ]
    }
   ],
   "source": [
    "for i in my_list:\n",
    "    if i % 6 == 0:\n",
    "        new_list = print(i)"
   ]
  },
  {
   "cell_type": "code",
   "execution_count": 53,
   "id": "95026423",
   "metadata": {},
   "outputs": [],
   "source": [
    "my_dic = {\"tito\": 7, \"fatih\" : 24, \"ayşegül\": 52}"
   ]
  },
  {
   "cell_type": "code",
   "execution_count": 55,
   "id": "11382a42",
   "metadata": {},
   "outputs": [
    {
     "data": {
      "text/plain": [
       "{'tito': 7, 'fatih': 24, 'ayşegül': 52}"
      ]
     },
     "execution_count": 55,
     "metadata": {},
     "output_type": "execute_result"
    }
   ],
   "source": [
    "my_dic"
   ]
  },
  {
   "cell_type": "code",
   "execution_count": 77,
   "id": "8091be5b",
   "metadata": {},
   "outputs": [],
   "source": [
    "yeni_liste = []\n",
    "for i in my_dic.values():\n",
    "    yeni_liste.append(i*2)"
   ]
  },
  {
   "cell_type": "code",
   "execution_count": 78,
   "id": "7893be88",
   "metadata": {},
   "outputs": [
    {
     "data": {
      "text/plain": [
       "[14, 48, 104]"
      ]
     },
     "execution_count": 78,
     "metadata": {},
     "output_type": "execute_result"
    }
   ],
   "source": [
    "yeni_liste"
   ]
  }
 ],
 "metadata": {
  "kernelspec": {
   "display_name": "Python 3 (ipykernel)",
   "language": "python",
   "name": "python3"
  },
  "language_info": {
   "codemirror_mode": {
    "name": "ipython",
    "version": 3
   },
   "file_extension": ".py",
   "mimetype": "text/x-python",
   "name": "python",
   "nbconvert_exporter": "python",
   "pygments_lexer": "ipython3",
   "version": "3.9.7"
  }
 },
 "nbformat": 4,
 "nbformat_minor": 5
}
