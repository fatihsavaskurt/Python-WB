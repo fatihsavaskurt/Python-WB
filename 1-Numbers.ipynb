{
 "cells": [
  {
   "cell_type": "markdown",
   "id": "fb373cdc",
   "metadata": {},
   "source": [
    "## Numbers and Data Types ##"
   ]
  },
  {
   "cell_type": "code",
   "execution_count": 1,
   "id": "f3314532",
   "metadata": {},
   "outputs": [],
   "source": [
    "age = 24"
   ]
  },
  {
   "cell_type": "code",
   "execution_count": 2,
   "id": "4fc0e193",
   "metadata": {},
   "outputs": [
    {
     "data": {
      "text/plain": [
       "24"
      ]
     },
     "execution_count": 2,
     "metadata": {},
     "output_type": "execute_result"
    }
   ],
   "source": [
    "age"
   ]
  },
  {
   "cell_type": "code",
   "execution_count": 3,
   "id": "216ef077",
   "metadata": {},
   "outputs": [
    {
     "data": {
      "text/plain": [
       "12.0"
      ]
     },
     "execution_count": 3,
     "metadata": {},
     "output_type": "execute_result"
    }
   ],
   "source": [
    "age / 2"
   ]
  },
  {
   "cell_type": "markdown",
   "id": "edea5da2",
   "metadata": {},
   "source": [
    "**Data Types**\n",
    "\n",
    "Text Type ise: string (str)\n",
    "\n",
    "Numeric Type ise: integer (int) --> tam sayı, float (flt) --> ondalıklı yani kesirli sayı"
   ]
  },
  {
   "cell_type": "code",
   "execution_count": 4,
   "id": "35a0482e",
   "metadata": {},
   "outputs": [
    {
     "data": {
      "text/plain": [
       "int"
      ]
     },
     "execution_count": 4,
     "metadata": {},
     "output_type": "execute_result"
    }
   ],
   "source": [
    "type(10)"
   ]
  },
  {
   "cell_type": "code",
   "execution_count": 5,
   "id": "21dab463",
   "metadata": {},
   "outputs": [
    {
     "data": {
      "text/plain": [
       "float"
      ]
     },
     "execution_count": 5,
     "metadata": {},
     "output_type": "execute_result"
    }
   ],
   "source": [
    "type(34.5)"
   ]
  },
  {
   "cell_type": "code",
   "execution_count": 6,
   "id": "3c53aa9b",
   "metadata": {},
   "outputs": [
    {
     "data": {
      "text/plain": [
       "str"
      ]
     },
     "execution_count": 6,
     "metadata": {},
     "output_type": "execute_result"
    }
   ],
   "source": [
    "type(\"tito\")"
   ]
  },
  {
   "cell_type": "code",
   "execution_count": 7,
   "id": "d464744d",
   "metadata": {},
   "outputs": [
    {
     "data": {
      "text/plain": [
       "float"
      ]
     },
     "execution_count": 7,
     "metadata": {},
     "output_type": "execute_result"
    }
   ],
   "source": [
    "myFloat = 1.323423\n",
    "type(myFloat)"
   ]
  },
  {
   "cell_type": "code",
   "execution_count": 8,
   "id": "7c5b3940",
   "metadata": {},
   "outputs": [
    {
     "data": {
      "text/plain": [
       "str"
      ]
     },
     "execution_count": 8,
     "metadata": {},
     "output_type": "execute_result"
    }
   ],
   "source": [
    "myStr = \"Tito\" + \"Tito\"\n",
    "\n",
    "type(myStr)"
   ]
  },
  {
   "cell_type": "markdown",
   "id": "0c1a16ce",
   "metadata": {},
   "source": [
    "**Gösterim Tipleri**\n",
    "\n",
    "--Variables'lara isim atarken gösterim tipleri, okunaklılık açısından önemli. İki farklı gösterim tipi var:\n",
    "\n",
    "1) camelCase: Yani ilk kelime küçük harfle başlarken, diğeri büyük harfle başlar.\n",
    "\n",
    "2) snake_case: İlk ve ikinci kelime (veya daha sonra gelebilecek tüm kelimeler) arasında '_' işareti var."
   ]
  },
  {
   "cell_type": "code",
   "execution_count": 9,
   "id": "27c6d5b8",
   "metadata": {},
   "outputs": [
    {
     "data": {
      "text/plain": [
       "10.0"
      ]
     },
     "execution_count": 9,
     "metadata": {},
     "output_type": "execute_result"
    }
   ],
   "source": [
    "40 / 4"
   ]
  },
  {
   "cell_type": "code",
   "execution_count": 10,
   "id": "2b03120a",
   "metadata": {},
   "outputs": [
    {
     "data": {
      "text/plain": [
       "float"
      ]
     },
     "execution_count": 10,
     "metadata": {},
     "output_type": "execute_result"
    }
   ],
   "source": [
    "type(40/4)"
   ]
  },
  {
   "cell_type": "markdown",
   "id": "e848c6b5",
   "metadata": {},
   "source": [
    "Pythonda, tam sayıyı tam sayıya böldüğümüzde de sonuç float çıkar. Diğer çoğu programlama dilinde integer / integer'in sonucu yine integer gelir."
   ]
  },
  {
   "cell_type": "code",
   "execution_count": 11,
   "id": "9d607cab",
   "metadata": {},
   "outputs": [],
   "source": [
    "myFloat = 50.4"
   ]
  },
  {
   "cell_type": "code",
   "execution_count": 12,
   "id": "3add3043",
   "metadata": {},
   "outputs": [
    {
     "data": {
      "text/plain": [
       "float"
      ]
     },
     "execution_count": 12,
     "metadata": {},
     "output_type": "execute_result"
    }
   ],
   "source": [
    "type(myFloat)"
   ]
  },
  {
   "cell_type": "code",
   "execution_count": 13,
   "id": "833085fe",
   "metadata": {},
   "outputs": [],
   "source": [
    "myFloat = int(myFloat)"
   ]
  },
  {
   "cell_type": "code",
   "execution_count": 14,
   "id": "d454f906",
   "metadata": {},
   "outputs": [
    {
     "data": {
      "text/plain": [
       "int"
      ]
     },
     "execution_count": 14,
     "metadata": {},
     "output_type": "execute_result"
    }
   ],
   "source": [
    "type(myFloat)"
   ]
  },
  {
   "cell_type": "code",
   "execution_count": 15,
   "id": "2cf25cad",
   "metadata": {},
   "outputs": [],
   "source": [
    "int_mult_str = \"Tito\"*5"
   ]
  },
  {
   "cell_type": "code",
   "execution_count": 16,
   "id": "2d572f9c",
   "metadata": {},
   "outputs": [
    {
     "data": {
      "text/plain": [
       "'TitoTitoTitoTitoTito'"
      ]
     },
     "execution_count": 16,
     "metadata": {},
     "output_type": "execute_result"
    }
   ],
   "source": [
    "int_mult_str"
   ]
  },
  {
   "cell_type": "code",
   "execution_count": 17,
   "id": "36526c0b",
   "metadata": {},
   "outputs": [
    {
     "data": {
      "text/plain": [
       "str"
      ]
     },
     "execution_count": 17,
     "metadata": {},
     "output_type": "execute_result"
    }
   ],
   "source": [
    "type(int_mult_str)"
   ]
  },
  {
   "cell_type": "markdown",
   "id": "4e46f8c5",
   "metadata": {},
   "source": [
    "--'*' işareti, pythonda ya iki numerik sayıyı (float, int vs.) ya da bir integer, bir str'yi çarpmaya yarar.\n",
    "\n",
    "--yani örneğin, Tito*5.0 kodu hata verecektir. Çünkü 5.0 float veri tipine sahiptir. (TypeError: can't multiply sequence by non-int of type 'float'\n",
    ")"
   ]
  },
  {
   "cell_type": "code",
   "execution_count": 18,
   "id": "df98af19",
   "metadata": {},
   "outputs": [
    {
     "data": {
      "text/plain": [
       "1"
      ]
     },
     "execution_count": 18,
     "metadata": {},
     "output_type": "execute_result"
    }
   ],
   "source": [
    "10 % 3 #remainder, yani kalan bulma"
   ]
  },
  {
   "cell_type": "code",
   "execution_count": 19,
   "id": "f63513b6",
   "metadata": {},
   "outputs": [
    {
     "data": {
      "text/plain": [
       "4"
      ]
     },
     "execution_count": 19,
     "metadata": {},
     "output_type": "execute_result"
    }
   ],
   "source": [
    "2**2 #üslü sayı"
   ]
  },
  {
   "cell_type": "code",
   "execution_count": 22,
   "id": "f5a827dd",
   "metadata": {},
   "outputs": [],
   "source": [
    "first_int = 5\n",
    "second_float = 2.4\n",
    "third_float = 42.21"
   ]
  },
  {
   "cell_type": "code",
   "execution_count": 26,
   "id": "44eb09dc",
   "metadata": {},
   "outputs": [
    {
     "data": {
      "text/plain": [
       "506.52"
      ]
     },
     "execution_count": 26,
     "metadata": {},
     "output_type": "execute_result"
    }
   ],
   "source": [
    "first_int * second_float * third_float"
   ]
  },
  {
   "cell_type": "code",
   "execution_count": 28,
   "id": "cec5d16f",
   "metadata": {},
   "outputs": [],
   "source": [
    "new_float = first_int ** second_float"
   ]
  },
  {
   "cell_type": "code",
   "execution_count": 31,
   "id": "092382a9",
   "metadata": {},
   "outputs": [
    {
     "data": {
      "text/plain": [
       "47.59134846789696"
      ]
     },
     "execution_count": 31,
     "metadata": {},
     "output_type": "execute_result"
    }
   ],
   "source": [
    "new_float"
   ]
  },
  {
   "cell_type": "code",
   "execution_count": 32,
   "id": "10611ce0",
   "metadata": {},
   "outputs": [
    {
     "data": {
      "text/plain": [
       "float"
      ]
     },
     "execution_count": 32,
     "metadata": {},
     "output_type": "execute_result"
    }
   ],
   "source": [
    "type(new_float)"
   ]
  }
 ],
 "metadata": {
  "kernelspec": {
   "display_name": "Python 3 (ipykernel)",
   "language": "python",
   "name": "python3"
  },
  "language_info": {
   "codemirror_mode": {
    "name": "ipython",
    "version": 3
   },
   "file_extension": ".py",
   "mimetype": "text/x-python",
   "name": "python",
   "nbconvert_exporter": "python",
   "pygments_lexer": "ipython3",
   "version": "3.9.7"
  }
 },
 "nbformat": 4,
 "nbformat_minor": 5
}
