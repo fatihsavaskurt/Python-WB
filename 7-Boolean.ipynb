{
 "cells": [
  {
   "cell_type": "markdown",
   "id": "b652cad0",
   "metadata": {},
   "source": [
    "# Boolean"
   ]
  },
  {
   "cell_type": "markdown",
   "id": "bdc3e11f",
   "metadata": {},
   "source": [
    "--İki değeri var, ya true ya da false\n",
    "\n",
    "--Kontroller konusunda çok kullanılıyor, koşul kontrolleri yani."
   ]
  },
  {
   "cell_type": "code",
   "execution_count": 1,
   "id": "91b3c1d5",
   "metadata": {},
   "outputs": [],
   "source": [
    "my_boolean = True"
   ]
  },
  {
   "cell_type": "code",
   "execution_count": 2,
   "id": "af2e19f5",
   "metadata": {},
   "outputs": [
    {
     "data": {
      "text/plain": [
       "bool"
      ]
     },
     "execution_count": 2,
     "metadata": {},
     "output_type": "execute_result"
    }
   ],
   "source": [
    "type(my_boolean)"
   ]
  },
  {
   "cell_type": "code",
   "execution_count": 3,
   "id": "cf2a133e",
   "metadata": {},
   "outputs": [
    {
     "data": {
      "text/plain": [
       "True"
      ]
     },
     "execution_count": 3,
     "metadata": {},
     "output_type": "execute_result"
    }
   ],
   "source": [
    "5 > 3"
   ]
  },
  {
   "cell_type": "code",
   "execution_count": 4,
   "id": "cf19647c",
   "metadata": {},
   "outputs": [
    {
     "data": {
      "text/plain": [
       "False"
      ]
     },
     "execution_count": 4,
     "metadata": {},
     "output_type": "execute_result"
    }
   ],
   "source": [
    "5 < 4"
   ]
  },
  {
   "cell_type": "code",
   "execution_count": 11,
   "id": "bc9ee398",
   "metadata": {},
   "outputs": [
    {
     "name": "stdout",
     "output_type": "stream",
     "text": [
      "Yaşınızı girin:17\n"
     ]
    }
   ],
   "source": [
    "yas_degeri = int(input(\"Yaşınızı girin:\", ))"
   ]
  },
  {
   "cell_type": "code",
   "execution_count": 12,
   "id": "a259c8de",
   "metadata": {},
   "outputs": [
    {
     "data": {
      "text/plain": [
       "int"
      ]
     },
     "execution_count": 12,
     "metadata": {},
     "output_type": "execute_result"
    }
   ],
   "source": [
    "type(yas_degeri)"
   ]
  },
  {
   "cell_type": "code",
   "execution_count": 13,
   "id": "5a7d20af",
   "metadata": {},
   "outputs": [
    {
     "data": {
      "text/plain": [
       "False"
      ]
     },
     "execution_count": 13,
     "metadata": {},
     "output_type": "execute_result"
    }
   ],
   "source": [
    "yas_degeri >= 18"
   ]
  }
 ],
 "metadata": {
  "kernelspec": {
   "display_name": "Python 3 (ipykernel)",
   "language": "python",
   "name": "python3"
  },
  "language_info": {
   "codemirror_mode": {
    "name": "ipython",
    "version": 3
   },
   "file_extension": ".py",
   "mimetype": "text/x-python",
   "name": "python",
   "nbconvert_exporter": "python",
   "pygments_lexer": "ipython3",
   "version": "3.9.7"
  }
 },
 "nbformat": 4,
 "nbformat_minor": 5
}
