{
 "cells": [
  {
   "cell_type": "markdown",
   "id": "aaa57a5c",
   "metadata": {},
   "source": [
    "# List"
   ]
  },
  {
   "cell_type": "markdown",
   "id": "6e05b40d",
   "metadata": {},
   "source": [
    "Bir veri yapısıdır, içinde birden fazla veri tipi tutabilir.\n",
    "\n",
    "--immutable - immutability değiştirilemezlik.\n",
    "\n",
    "--string içerisinde bir elemanı değiştiremiyoruz ancak listede değiştirilebilir.\n",
    "\n",
    "--listelerde her türlü veri tipi tutulabilir"
   ]
  },
  {
   "cell_type": "code",
   "execution_count": 3,
   "id": "a944dca7",
   "metadata": {},
   "outputs": [],
   "source": [
    "my_list = [10,20,30,40,50,60,70]"
   ]
  },
  {
   "cell_type": "code",
   "execution_count": 4,
   "id": "1ad882fa",
   "metadata": {},
   "outputs": [
    {
     "data": {
      "text/plain": [
       "[10, 20, 30, 40, 50, 60, 70]"
      ]
     },
     "execution_count": 4,
     "metadata": {},
     "output_type": "execute_result"
    }
   ],
   "source": [
    "my_list"
   ]
  },
  {
   "cell_type": "code",
   "execution_count": 5,
   "id": "85e11cb0",
   "metadata": {},
   "outputs": [
    {
     "data": {
      "text/plain": [
       "list"
      ]
     },
     "execution_count": 5,
     "metadata": {},
     "output_type": "execute_result"
    }
   ],
   "source": [
    "type(my_list)"
   ]
  },
  {
   "cell_type": "code",
   "execution_count": 6,
   "id": "4480d7ec",
   "metadata": {},
   "outputs": [
    {
     "data": {
      "text/plain": [
       "int"
      ]
     },
     "execution_count": 6,
     "metadata": {},
     "output_type": "execute_result"
    }
   ],
   "source": [
    "type(my_list[0])"
   ]
  },
  {
   "cell_type": "code",
   "execution_count": 7,
   "id": "ffa33b30",
   "metadata": {},
   "outputs": [],
   "source": [
    "my_list[0] = 100"
   ]
  },
  {
   "cell_type": "code",
   "execution_count": 8,
   "id": "1721f033",
   "metadata": {},
   "outputs": [
    {
     "data": {
      "text/plain": [
       "[100, 20, 30, 40, 50, 60, 70]"
      ]
     },
     "execution_count": 8,
     "metadata": {},
     "output_type": "execute_result"
    }
   ],
   "source": [
    "my_list"
   ]
  },
  {
   "cell_type": "code",
   "execution_count": 9,
   "id": "0534275c",
   "metadata": {},
   "outputs": [
    {
     "data": {
      "text/plain": [
       "7"
      ]
     },
     "execution_count": 9,
     "metadata": {},
     "output_type": "execute_result"
    }
   ],
   "source": [
    "len(my_list)"
   ]
  },
  {
   "cell_type": "code",
   "execution_count": 11,
   "id": "2eb575ed",
   "metadata": {},
   "outputs": [
    {
     "data": {
      "text/plain": [
       "70"
      ]
     },
     "execution_count": 11,
     "metadata": {},
     "output_type": "execute_result"
    }
   ],
   "source": [
    "my_list[len(my_list)-1]"
   ]
  },
  {
   "cell_type": "code",
   "execution_count": 12,
   "id": "a0661763",
   "metadata": {},
   "outputs": [
    {
     "data": {
      "text/plain": [
       "70"
      ]
     },
     "execution_count": 12,
     "metadata": {},
     "output_type": "execute_result"
    }
   ],
   "source": [
    "my_list [-1]"
   ]
  },
  {
   "cell_type": "code",
   "execution_count": 15,
   "id": "299dcc3b",
   "metadata": {},
   "outputs": [],
   "source": [
    "my_list.append(80)"
   ]
  },
  {
   "cell_type": "code",
   "execution_count": 16,
   "id": "cd382d69",
   "metadata": {},
   "outputs": [
    {
     "data": {
      "text/plain": [
       "[100, 20, 30, 40, 50, 60, 70, 80]"
      ]
     },
     "execution_count": 16,
     "metadata": {},
     "output_type": "execute_result"
    }
   ],
   "source": [
    "my_list"
   ]
  },
  {
   "cell_type": "code",
   "execution_count": 18,
   "id": "ea26c3a3",
   "metadata": {},
   "outputs": [
    {
     "data": {
      "text/plain": [
       "1"
      ]
     },
     "execution_count": 18,
     "metadata": {},
     "output_type": "execute_result"
    }
   ],
   "source": [
    "my_list.count(50)"
   ]
  },
  {
   "cell_type": "code",
   "execution_count": 19,
   "id": "d0a6907e",
   "metadata": {},
   "outputs": [
    {
     "data": {
      "text/plain": [
       "3"
      ]
     },
     "execution_count": 19,
     "metadata": {},
     "output_type": "execute_result"
    }
   ],
   "source": [
    "my_list.index(40)"
   ]
  },
  {
   "cell_type": "code",
   "execution_count": 21,
   "id": "4124318b",
   "metadata": {},
   "outputs": [],
   "source": [
    "my_list.insert(2,35)"
   ]
  },
  {
   "cell_type": "code",
   "execution_count": 22,
   "id": "acbfa707",
   "metadata": {},
   "outputs": [
    {
     "data": {
      "text/plain": [
       "[100, 20, 35, 30, 40, 50, 60, 70, 80]"
      ]
     },
     "execution_count": 22,
     "metadata": {},
     "output_type": "execute_result"
    }
   ],
   "source": [
    "my_list"
   ]
  },
  {
   "cell_type": "code",
   "execution_count": 23,
   "id": "7a3b7156",
   "metadata": {},
   "outputs": [],
   "source": [
    "my_list.remove(40)"
   ]
  },
  {
   "cell_type": "code",
   "execution_count": 24,
   "id": "556de1fc",
   "metadata": {},
   "outputs": [
    {
     "data": {
      "text/plain": [
       "[100, 20, 35, 30, 50, 60, 70, 80]"
      ]
     },
     "execution_count": 24,
     "metadata": {},
     "output_type": "execute_result"
    }
   ],
   "source": [
    "my_list"
   ]
  },
  {
   "cell_type": "code",
   "execution_count": 38,
   "id": "8374de27",
   "metadata": {},
   "outputs": [
    {
     "name": "stdout",
     "output_type": "stream",
     "text": [
      "listeye eklemek istediğiniz sayıyı giriniz:55\n"
     ]
    }
   ],
   "source": [
    "input_code = my_list.append(input(\"listeye eklemek istediğiniz sayıyı giriniz:\"))"
   ]
  },
  {
   "cell_type": "code",
   "execution_count": 36,
   "id": "00518904",
   "metadata": {},
   "outputs": [],
   "source": [
    "my_list.remove('')"
   ]
  },
  {
   "cell_type": "code",
   "execution_count": 39,
   "id": "4f0ad453",
   "metadata": {},
   "outputs": [
    {
     "data": {
      "text/plain": [
       "[100, 20, 35, 30, 50, 60, 70, 80, '31', '55']"
      ]
     },
     "execution_count": 39,
     "metadata": {},
     "output_type": "execute_result"
    }
   ],
   "source": [
    "my_list"
   ]
  },
  {
   "cell_type": "code",
   "execution_count": 41,
   "id": "fd9b3649",
   "metadata": {},
   "outputs": [],
   "source": [
    "type_control = int(my_list[1]*2)"
   ]
  },
  {
   "cell_type": "code",
   "execution_count": 42,
   "id": "8813fa3e",
   "metadata": {},
   "outputs": [
    {
     "data": {
      "text/plain": [
       "int"
      ]
     },
     "execution_count": 42,
     "metadata": {},
     "output_type": "execute_result"
    }
   ],
   "source": [
    "type(type_control)"
   ]
  },
  {
   "cell_type": "code",
   "execution_count": 43,
   "id": "bdbb3320",
   "metadata": {},
   "outputs": [],
   "source": [
    "mixed_list = [20,\"tito\",1,2,4,\"fatih\"]"
   ]
  },
  {
   "cell_type": "code",
   "execution_count": 44,
   "id": "d78b4b1e",
   "metadata": {},
   "outputs": [
    {
     "data": {
      "text/plain": [
       "[20, 'tito', 1, 2, 4, 'fatih']"
      ]
     },
     "execution_count": 44,
     "metadata": {},
     "output_type": "execute_result"
    }
   ],
   "source": [
    "mixed_list"
   ]
  },
  {
   "cell_type": "code",
   "execution_count": 45,
   "id": "dd79e458",
   "metadata": {},
   "outputs": [],
   "source": [
    "list1 = [2,3,4]\n",
    "list2 = [5,6,7]"
   ]
  },
  {
   "cell_type": "code",
   "execution_count": 47,
   "id": "dbf1a72d",
   "metadata": {},
   "outputs": [
    {
     "name": "stdout",
     "output_type": "stream",
     "text": [
      "Help on built-in function extend:\n",
      "\n",
      "extend(iterable, /) method of builtins.list instance\n",
      "    Extend list by appending elements from the iterable.\n",
      "\n"
     ]
    }
   ],
   "source": [
    "help(list1.extend)"
   ]
  },
  {
   "cell_type": "code",
   "execution_count": 48,
   "id": "cbc3b1a8",
   "metadata": {},
   "outputs": [],
   "source": [
    "list1.extend(list2)"
   ]
  },
  {
   "cell_type": "code",
   "execution_count": 49,
   "id": "c5830f3a",
   "metadata": {},
   "outputs": [
    {
     "data": {
      "text/plain": [
       "[2, 3, 4, 5, 6, 7]"
      ]
     },
     "execution_count": 49,
     "metadata": {},
     "output_type": "execute_result"
    }
   ],
   "source": [
    "list1"
   ]
  },
  {
   "cell_type": "code",
   "execution_count": 50,
   "id": "a3dd9e88",
   "metadata": {},
   "outputs": [],
   "source": [
    "#nested list"
   ]
  },
  {
   "cell_type": "code",
   "execution_count": 53,
   "id": "44b9af80",
   "metadata": {},
   "outputs": [],
   "source": [
    "my_nested_list = [10,20,30,40,[5,6,7],4]"
   ]
  },
  {
   "cell_type": "code",
   "execution_count": 63,
   "id": "ca8c19cb",
   "metadata": {},
   "outputs": [
    {
     "data": {
      "text/plain": [
       "5"
      ]
     },
     "execution_count": 63,
     "metadata": {},
     "output_type": "execute_result"
    }
   ],
   "source": [
    "my_nested_list[4][0]"
   ]
  },
  {
   "cell_type": "code",
   "execution_count": 64,
   "id": "0fa49820",
   "metadata": {},
   "outputs": [],
   "source": [
    "last_list = [10,20,30,[50,\"tito\",[\"fatih\",\"toto\"],60],70]"
   ]
  },
  {
   "cell_type": "code",
   "execution_count": 66,
   "id": "094ef942",
   "metadata": {},
   "outputs": [
    {
     "data": {
      "text/plain": [
       "[10, 20, 30, [50, 'tito', ['fatih', 'toto'], 60], 70]"
      ]
     },
     "execution_count": 66,
     "metadata": {},
     "output_type": "execute_result"
    }
   ],
   "source": [
    "last_list"
   ]
  },
  {
   "cell_type": "code",
   "execution_count": 70,
   "id": "2c2ce760",
   "metadata": {},
   "outputs": [
    {
     "data": {
      "text/plain": [
       "'toto'"
      ]
     },
     "execution_count": 70,
     "metadata": {},
     "output_type": "execute_result"
    }
   ],
   "source": [
    "last_list[3][2][1]"
   ]
  }
 ],
 "metadata": {
  "kernelspec": {
   "display_name": "Python 3 (ipykernel)",
   "language": "python",
   "name": "python3"
  },
  "language_info": {
   "codemirror_mode": {
    "name": "ipython",
    "version": 3
   },
   "file_extension": ".py",
   "mimetype": "text/x-python",
   "name": "python",
   "nbconvert_exporter": "python",
   "pygments_lexer": "ipython3",
   "version": "3.9.7"
  }
 },
 "nbformat": 4,
 "nbformat_minor": 5
}
