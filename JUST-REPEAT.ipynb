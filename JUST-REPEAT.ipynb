{
 "cells": [
  {
   "cell_type": "code",
   "execution_count": 1,
   "id": "c911dcb0",
   "metadata": {},
   "outputs": [],
   "source": [
    "age = 24"
   ]
  },
  {
   "cell_type": "code",
   "execution_count": 3,
   "id": "70f89742",
   "metadata": {},
   "outputs": [
    {
     "data": {
      "text/plain": [
       "24"
      ]
     },
     "execution_count": 3,
     "metadata": {},
     "output_type": "execute_result"
    }
   ],
   "source": [
    "age"
   ]
  },
  {
   "cell_type": "code",
   "execution_count": 5,
   "id": "366ee956",
   "metadata": {},
   "outputs": [],
   "source": [
    "age = 31"
   ]
  },
  {
   "cell_type": "code",
   "execution_count": 7,
   "id": "3f9ddc0f",
   "metadata": {},
   "outputs": [
    {
     "data": {
      "text/plain": [
       "31"
      ]
     },
     "execution_count": 7,
     "metadata": {},
     "output_type": "execute_result"
    }
   ],
   "source": [
    "age"
   ]
  },
  {
   "cell_type": "code",
   "execution_count": 10,
   "id": "a24870a2",
   "metadata": {},
   "outputs": [
    {
     "data": {
      "text/plain": [
       "int"
      ]
     },
     "execution_count": 10,
     "metadata": {},
     "output_type": "execute_result"
    }
   ],
   "source": [
    "type(age)"
   ]
  },
  {
   "cell_type": "markdown",
   "id": "d0d628af",
   "metadata": {},
   "source": [
    "Integer --> tam sayı demek (numeric type)\n",
    "\n",
    "Float --> Kesirli / ondalıklı sayı (numeric type)\n",
    "\n",
    "String --> metin "
   ]
  },
  {
   "cell_type": "code",
   "execution_count": 12,
   "id": "184b45d8",
   "metadata": {},
   "outputs": [],
   "source": [
    "my_string = \"Fatih Esad Savaşkurt\""
   ]
  },
  {
   "cell_type": "code",
   "execution_count": 13,
   "id": "c820856c",
   "metadata": {},
   "outputs": [
    {
     "data": {
      "text/plain": [
       "str"
      ]
     },
     "execution_count": 13,
     "metadata": {},
     "output_type": "execute_result"
    }
   ],
   "source": [
    "type(my_string)"
   ]
  },
  {
   "cell_type": "code",
   "execution_count": 15,
   "id": "c19c1e3d",
   "metadata": {},
   "outputs": [],
   "source": [
    "my_float = 32.5"
   ]
  },
  {
   "cell_type": "code",
   "execution_count": 16,
   "id": "5b6c7c8d",
   "metadata": {},
   "outputs": [
    {
     "data": {
      "text/plain": [
       "float"
      ]
     },
     "execution_count": 16,
     "metadata": {},
     "output_type": "execute_result"
    }
   ],
   "source": [
    "type(my_float)"
   ]
  },
  {
   "cell_type": "code",
   "execution_count": 17,
   "id": "3a59afca",
   "metadata": {},
   "outputs": [
    {
     "data": {
      "text/plain": [
       "int"
      ]
     },
     "execution_count": 17,
     "metadata": {},
     "output_type": "execute_result"
    }
   ],
   "source": [
    "type(age)"
   ]
  },
  {
   "cell_type": "code",
   "execution_count": 19,
   "id": "5a467afd",
   "metadata": {},
   "outputs": [],
   "source": [
    "mult_with_int = \"tito\"*4"
   ]
  },
  {
   "cell_type": "code",
   "execution_count": 20,
   "id": "9938e58b",
   "metadata": {},
   "outputs": [
    {
     "data": {
      "text/plain": [
       "'titotitotitotito'"
      ]
     },
     "execution_count": 20,
     "metadata": {},
     "output_type": "execute_result"
    }
   ],
   "source": [
    "mult_with_int"
   ]
  },
  {
   "cell_type": "code",
   "execution_count": 24,
   "id": "d39b19f9",
   "metadata": {
    "scrolled": true
   },
   "outputs": [
    {
     "name": "stdout",
     "output_type": "stream",
     "text": [
      "Help on built-in function split:\n",
      "\n",
      "split(sep=None, maxsplit=-1) method of builtins.str instance\n",
      "    Return a list of the words in the string, using sep as the delimiter string.\n",
      "    \n",
      "    sep\n",
      "      The delimiter according which to split the string.\n",
      "      None (the default value) means split according to any whitespace,\n",
      "      and discard empty strings from the result.\n",
      "    maxsplit\n",
      "      Maximum number of splits to do.\n",
      "      -1 (the default value) means no limit.\n",
      "\n"
     ]
    }
   ],
   "source": [
    "help(mult_with_int.split)"
   ]
  },
  {
   "cell_type": "code",
   "execution_count": 37,
   "id": "8777e230",
   "metadata": {},
   "outputs": [
    {
     "data": {
      "text/plain": [
       "9"
      ]
     },
     "execution_count": 37,
     "metadata": {},
     "output_type": "execute_result"
    }
   ],
   "source": [
    "my_string.find(\"d\")"
   ]
  },
  {
   "cell_type": "code",
   "execution_count": 38,
   "id": "095a0dae",
   "metadata": {},
   "outputs": [
    {
     "data": {
      "text/plain": [
       "'Fatih esad savaşkurt'"
      ]
     },
     "execution_count": 38,
     "metadata": {},
     "output_type": "execute_result"
    }
   ],
   "source": [
    "my_string.capitalize()"
   ]
  },
  {
   "cell_type": "code",
   "execution_count": 40,
   "id": "638f5567",
   "metadata": {},
   "outputs": [
    {
     "data": {
      "text/plain": [
       "'Fetih Esed Seveşkurt'"
      ]
     },
     "execution_count": 40,
     "metadata": {},
     "output_type": "execute_result"
    }
   ],
   "source": [
    "my_string.replace(\"a\", \"e\")"
   ]
  },
  {
   "cell_type": "code",
   "execution_count": 48,
   "id": "be0e82dd",
   "metadata": {},
   "outputs": [
    {
     "data": {
      "text/plain": [
       "4"
      ]
     },
     "execution_count": 48,
     "metadata": {},
     "output_type": "execute_result"
    }
   ],
   "source": [
    "my_string.count(\"a\")"
   ]
  },
  {
   "cell_type": "code",
   "execution_count": 55,
   "id": "65df312e",
   "metadata": {},
   "outputs": [
    {
     "data": {
      "text/plain": [
       "'Fatih Esad Savaşkurt'"
      ]
     },
     "execution_count": 55,
     "metadata": {},
     "output_type": "execute_result"
    }
   ],
   "source": [
    "my_string"
   ]
  },
  {
   "cell_type": "code",
   "execution_count": 57,
   "id": "4651617d",
   "metadata": {},
   "outputs": [
    {
     "data": {
      "text/plain": [
       "'Fatih Esad Savaşkurt'"
      ]
     },
     "execution_count": 57,
     "metadata": {},
     "output_type": "execute_result"
    }
   ],
   "source": [
    "my_string.replace(\"e\", \"\")"
   ]
  },
  {
   "cell_type": "code",
   "execution_count": 58,
   "id": "3b12c138",
   "metadata": {},
   "outputs": [],
   "source": [
    "name = \"Fatih Esad Savaşkurt\""
   ]
  },
  {
   "cell_type": "code",
   "execution_count": 61,
   "id": "c289cc8d",
   "metadata": {},
   "outputs": [
    {
     "data": {
      "text/plain": [
       "'Fatih  Savaşkurt'"
      ]
     },
     "execution_count": 61,
     "metadata": {},
     "output_type": "execute_result"
    }
   ],
   "source": [
    "name.replace(\"Esad\",\"\")"
   ]
  },
  {
   "cell_type": "code",
   "execution_count": 62,
   "id": "ce447e3d",
   "metadata": {},
   "outputs": [
    {
     "data": {
      "text/plain": [
       "'FATIH ESAD SAVAŞKURT'"
      ]
     },
     "execution_count": 62,
     "metadata": {},
     "output_type": "execute_result"
    }
   ],
   "source": [
    "name.upper()"
   ]
  },
  {
   "cell_type": "code",
   "execution_count": 63,
   "id": "13e0c947",
   "metadata": {},
   "outputs": [
    {
     "data": {
      "text/plain": [
       "'a'"
      ]
     },
     "execution_count": 63,
     "metadata": {},
     "output_type": "execute_result"
    }
   ],
   "source": [
    "name[1]"
   ]
  },
  {
   "cell_type": "code",
   "execution_count": 64,
   "id": "769e0d6c",
   "metadata": {},
   "outputs": [],
   "source": [
    "#name[başlangıç indexi:en son index: kaçıncı indexte dursun]"
   ]
  },
  {
   "cell_type": "code",
   "execution_count": 75,
   "id": "b779f169",
   "metadata": {},
   "outputs": [
    {
     "data": {
      "text/plain": [
       "'Savaşkurt'"
      ]
     },
     "execution_count": 75,
     "metadata": {},
     "output_type": "execute_result"
    }
   ],
   "source": [
    "name[11:20]"
   ]
  },
  {
   "cell_type": "code",
   "execution_count": 76,
   "id": "166519ef",
   "metadata": {},
   "outputs": [
    {
     "data": {
      "text/plain": [
       "'Fatih Esad Savaşkurt'"
      ]
     },
     "execution_count": 76,
     "metadata": {},
     "output_type": "execute_result"
    }
   ],
   "source": [
    "name"
   ]
  },
  {
   "cell_type": "code",
   "execution_count": 79,
   "id": "d32e0c4f",
   "metadata": {},
   "outputs": [],
   "source": [
    "name_slicing = name.split()"
   ]
  },
  {
   "cell_type": "code",
   "execution_count": 82,
   "id": "3122971e",
   "metadata": {},
   "outputs": [
    {
     "data": {
      "text/plain": [
       "['Savaşkurt']"
      ]
     },
     "execution_count": 82,
     "metadata": {},
     "output_type": "execute_result"
    }
   ],
   "source": [
    "name_slicing[2:3]"
   ]
  }
 ],
 "metadata": {
  "kernelspec": {
   "display_name": "Python 3 (ipykernel)",
   "language": "python",
   "name": "python3"
  },
  "language_info": {
   "codemirror_mode": {
    "name": "ipython",
    "version": 3
   },
   "file_extension": ".py",
   "mimetype": "text/x-python",
   "name": "python",
   "nbconvert_exporter": "python",
   "pygments_lexer": "ipython3",
   "version": "3.9.7"
  }
 },
 "nbformat": 4,
 "nbformat_minor": 5
}
