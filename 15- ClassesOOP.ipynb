{
 "cells": [
  {
   "cell_type": "code",
   "execution_count": 1,
   "id": "c709ba3a",
   "metadata": {},
   "outputs": [],
   "source": [
    "# Class"
   ]
  },
  {
   "cell_type": "code",
   "execution_count": 2,
   "id": "4de1c345",
   "metadata": {},
   "outputs": [
    {
     "ename": "SyntaxError",
     "evalue": "EOL while scanning string literal (1363056730.py, line 3)",
     "output_type": "error",
     "traceback": [
      "\u001b[1;36m  Cell \u001b[1;32mIn [2], line 3\u001b[1;36m\u001b[0m\n\u001b[1;33m    Python'da `class`, kendi veri türlerini ve fonksiyonlarını (metotlarını) tanımlamak için kullanılan bir yapıdır.\u001b[0m\n\u001b[1;37m                                                                                                                      ^\u001b[0m\n\u001b[1;31mSyntaxError\u001b[0m\u001b[1;31m:\u001b[0m EOL while scanning string literal\n"
     ]
    }
   ],
   "source": [
    "## Python'da `class` (Sınıf) Nedir?\n",
    "\n",
    "Python'da `class`, kendi veri türlerini ve fonksiyonlarını (metotlarını) tanımlamak için kullanılan bir yapıdır.  \n",
    "Nesne yönelimli programlamanın temelidir.\n",
    "\n",
    "> **Class**, bir nesnenin (object) şablonudur.  \n",
    "> **Object**, bu şablondan oluşturulan somut örnektir.\n",
    "\n",
    "---\n",
    "\n",
    "### 🔹 Basit Sınıf Tanımı ve Kullanımı\n",
    "\n",
    "Aşağıda bir `Araba` sınıfı tanımlanmıştır. Bu sınıf, marka ve model bilgilerini alır ve tanıtım yapar.\n",
    "\n",
    "```python\n",
    "class Araba:\n",
    "    def __init__(self, marka, model):\n",
    "        self.marka = marka\n",
    "        self.model = model\n",
    "\n",
    "    def tanit(self):\n",
    "        print(f\"{self.marka} marka, {self.model} model bir araba.\")\n",
    "        \n",
    "arac1 = Araba(\"Toyota\", \"Corolla\")\n",
    "arac1.tanit()\n"
   ]
  },
  {
   "cell_type": "code",
   "execution_count": 11,
   "id": "8902ac6f",
   "metadata": {},
   "outputs": [],
   "source": [
    "class Person():\n",
    "    name=\"\"\n",
    "    age = 0\n",
    "    gender = \"\""
   ]
  },
  {
   "cell_type": "code",
   "execution_count": 5,
   "id": "4a55d5b0",
   "metadata": {},
   "outputs": [
    {
     "data": {
      "text/plain": [
       "__main__.Person"
      ]
     },
     "execution_count": 5,
     "metadata": {},
     "output_type": "execute_result"
    }
   ],
   "source": [
    "type(Person())"
   ]
  },
  {
   "cell_type": "code",
   "execution_count": 9,
   "id": "45b1b12f",
   "metadata": {},
   "outputs": [],
   "source": [
    "fatih = Person()"
   ]
  },
  {
   "cell_type": "code",
   "execution_count": 10,
   "id": "40bfd06c",
   "metadata": {},
   "outputs": [
    {
     "data": {
      "text/plain": [
       "0"
      ]
     },
     "execution_count": 10,
     "metadata": {},
     "output_type": "execute_result"
    }
   ],
   "source": [
    "fatih.age"
   ]
  },
  {
   "cell_type": "code",
   "execution_count": 30,
   "id": "f23e7167",
   "metadata": {},
   "outputs": [],
   "source": [
    "class Person():\n",
    "    #property (aslında property koymaya gerek yok, self ile aşağıda yazdığımızda python anlıyor.)\n",
    "    name=\"\"\n",
    "    age = 0\n",
    "    gender = \"\"\n",
    "    \n",
    "    #method, initializer yani değer atamak.\n",
    "    def __init__(self, name, age, gender):\n",
    "        self.name = name\n",
    "        self.age = age\n",
    "        self.gender = gender\n"
   ]
  },
  {
   "cell_type": "code",
   "execution_count": 27,
   "id": "72f70ac1",
   "metadata": {},
   "outputs": [],
   "source": [
    "fatih = Person(\"Fatih\", 24, \"Male\")"
   ]
  },
  {
   "cell_type": "code",
   "execution_count": 28,
   "id": "f9a2e816",
   "metadata": {},
   "outputs": [
    {
     "data": {
      "text/plain": [
       "24"
      ]
     },
     "execution_count": 28,
     "metadata": {},
     "output_type": "execute_result"
    }
   ],
   "source": [
    "fatih.age"
   ]
  },
  {
   "cell_type": "code",
   "execution_count": 44,
   "id": "ef97e94d",
   "metadata": {},
   "outputs": [],
   "source": [
    "class Dog():\n",
    "    \n",
    "    year = 7\n",
    "    \n",
    "    def __init__(self,age):\n",
    "        self.age = age\n",
    "        self.dog_human_age = age * self.year\n",
    "        \n",
    "    def human_age(self):\n",
    "        return self.age * self.year # Dog.year = self.year"
   ]
  },
  {
   "cell_type": "code",
   "execution_count": 45,
   "id": "b7f68704",
   "metadata": {},
   "outputs": [],
   "source": [
    "my_dog = Dog(3)"
   ]
  },
  {
   "cell_type": "code",
   "execution_count": 46,
   "id": "ddd5298d",
   "metadata": {},
   "outputs": [
    {
     "data": {
      "text/plain": [
       "3"
      ]
     },
     "execution_count": 46,
     "metadata": {},
     "output_type": "execute_result"
    }
   ],
   "source": [
    "my_dog.age"
   ]
  },
  {
   "cell_type": "code",
   "execution_count": 47,
   "id": "2364287b",
   "metadata": {},
   "outputs": [
    {
     "data": {
      "text/plain": [
       "21"
      ]
     },
     "execution_count": 47,
     "metadata": {},
     "output_type": "execute_result"
    }
   ],
   "source": [
    "my_dog.human_age()"
   ]
  },
  {
   "cell_type": "code",
   "execution_count": 48,
   "id": "92adf2b8",
   "metadata": {},
   "outputs": [
    {
     "data": {
      "text/plain": [
       "21"
      ]
     },
     "execution_count": 48,
     "metadata": {},
     "output_type": "execute_result"
    }
   ],
   "source": [
    "my_dog.dog_human_age"
   ]
  }
 ],
 "metadata": {
  "kernelspec": {
   "display_name": "Python 3 (ipykernel)",
   "language": "python",
   "name": "python3"
  },
  "language_info": {
   "codemirror_mode": {
    "name": "ipython",
    "version": 3
   },
   "file_extension": ".py",
   "mimetype": "text/x-python",
   "name": "python",
   "nbconvert_exporter": "python",
   "pygments_lexer": "ipython3",
   "version": "3.9.7"
  }
 },
 "nbformat": 4,
 "nbformat_minor": 5
}
