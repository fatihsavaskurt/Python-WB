{
 "cells": [
  {
   "cell_type": "code",
   "execution_count": 1,
   "id": "b82bcf3c",
   "metadata": {},
   "outputs": [],
   "source": [
    "#range fonksiyonu"
   ]
  },
  {
   "cell_type": "code",
   "execution_count": 14,
   "id": "9f1b1621",
   "metadata": {},
   "outputs": [
    {
     "name": "stdout",
     "output_type": "stream",
     "text": [
      "Help on class range in module builtins:\n",
      "\n",
      "class range(object)\n",
      " |  range(stop) -> range object\n",
      " |  range(start, stop[, step]) -> range object\n",
      " |  \n",
      " |  Return an object that produces a sequence of integers from start (inclusive)\n",
      " |  to stop (exclusive) by step.  range(i, j) produces i, i+1, i+2, ..., j-1.\n",
      " |  start defaults to 0, and stop is omitted!  range(4) produces 0, 1, 2, 3.\n",
      " |  These are exactly the valid indices for a list of 4 elements.\n",
      " |  When step is given, it specifies the increment (or decrement).\n",
      " |  \n",
      " |  Methods defined here:\n",
      " |  \n",
      " |  __bool__(self, /)\n",
      " |      self != 0\n",
      " |  \n",
      " |  __contains__(self, key, /)\n",
      " |      Return key in self.\n",
      " |  \n",
      " |  __eq__(self, value, /)\n",
      " |      Return self==value.\n",
      " |  \n",
      " |  __ge__(self, value, /)\n",
      " |      Return self>=value.\n",
      " |  \n",
      " |  __getattribute__(self, name, /)\n",
      " |      Return getattr(self, name).\n",
      " |  \n",
      " |  __getitem__(self, key, /)\n",
      " |      Return self[key].\n",
      " |  \n",
      " |  __gt__(self, value, /)\n",
      " |      Return self>value.\n",
      " |  \n",
      " |  __hash__(self, /)\n",
      " |      Return hash(self).\n",
      " |  \n",
      " |  __iter__(self, /)\n",
      " |      Implement iter(self).\n",
      " |  \n",
      " |  __le__(self, value, /)\n",
      " |      Return self<=value.\n",
      " |  \n",
      " |  __len__(self, /)\n",
      " |      Return len(self).\n",
      " |  \n",
      " |  __lt__(self, value, /)\n",
      " |      Return self<value.\n",
      " |  \n",
      " |  __ne__(self, value, /)\n",
      " |      Return self!=value.\n",
      " |  \n",
      " |  __reduce__(...)\n",
      " |      Helper for pickle.\n",
      " |  \n",
      " |  __repr__(self, /)\n",
      " |      Return repr(self).\n",
      " |  \n",
      " |  __reversed__(...)\n",
      " |      Return a reverse iterator.\n",
      " |  \n",
      " |  count(...)\n",
      " |      rangeobject.count(value) -> integer -- return number of occurrences of value\n",
      " |  \n",
      " |  index(...)\n",
      " |      rangeobject.index(value) -> integer -- return index of value.\n",
      " |      Raise ValueError if the value is not present.\n",
      " |  \n",
      " |  ----------------------------------------------------------------------\n",
      " |  Static methods defined here:\n",
      " |  \n",
      " |  __new__(*args, **kwargs) from builtins.type\n",
      " |      Create and return a new object.  See help(type) for accurate signature.\n",
      " |  \n",
      " |  ----------------------------------------------------------------------\n",
      " |  Data descriptors defined here:\n",
      " |  \n",
      " |  start\n",
      " |  \n",
      " |  step\n",
      " |  \n",
      " |  stop\n",
      "\n"
     ]
    }
   ],
   "source": [
    "help(range)"
   ]
  },
  {
   "cell_type": "code",
   "execution_count": 8,
   "id": "9e92f39e",
   "metadata": {},
   "outputs": [
    {
     "data": {
      "text/plain": [
       "[0, 1, 2, 3, 4, 5, 6, 7, 8, 9, 10, 11, 12, 13, 14, 15, 16, 17, 18, 19]"
      ]
     },
     "execution_count": 8,
     "metadata": {},
     "output_type": "execute_result"
    }
   ],
   "source": [
    "list(range(20))"
   ]
  },
  {
   "cell_type": "code",
   "execution_count": 13,
   "id": "4cb57f19",
   "metadata": {},
   "outputs": [
    {
     "name": "stdout",
     "output_type": "stream",
     "text": [
      "0.0\n",
      "0.5\n",
      "1.0\n",
      "1.5\n",
      "2.0\n",
      "2.5\n",
      "3.0\n",
      "3.5\n",
      "4.0\n",
      "4.5\n",
      "5.0\n",
      "5.5\n",
      "6.0\n",
      "6.5\n",
      "7.0\n",
      "7.5\n",
      "8.0\n",
      "8.5\n",
      "9.0\n",
      "9.5\n"
     ]
    }
   ],
   "source": [
    "for i in list(range(20)):\n",
    "    print(i/2)"
   ]
  },
  {
   "cell_type": "code",
   "execution_count": 17,
   "id": "ac21fcc1",
   "metadata": {},
   "outputs": [],
   "source": [
    "new_list = list(range(3,10))"
   ]
  },
  {
   "cell_type": "code",
   "execution_count": 19,
   "id": "e4c35265",
   "metadata": {},
   "outputs": [
    {
     "data": {
      "text/plain": [
       "[3, 4, 5, 6, 7, 8, 9]"
      ]
     },
     "execution_count": 19,
     "metadata": {},
     "output_type": "execute_result"
    }
   ],
   "source": [
    "new_list"
   ]
  },
  {
   "cell_type": "code",
   "execution_count": 21,
   "id": "59f1c1ea",
   "metadata": {},
   "outputs": [
    {
     "name": "stdout",
     "output_type": "stream",
     "text": [
      "0\n",
      "1\n",
      "2\n",
      "3\n",
      "4\n",
      "5\n",
      "6\n"
     ]
    }
   ],
   "source": [
    "for ix in range(len(new_list)): # indeksleri yazdırmış olduk.\n",
    "    print(ix)"
   ]
  },
  {
   "cell_type": "code",
   "execution_count": 25,
   "id": "c6251c22",
   "metadata": {},
   "outputs": [],
   "source": [
    "# enumerate: yukarıdaki indeks getiren döngünün hem indeks hem değer getiren hali."
   ]
  },
  {
   "cell_type": "code",
   "execution_count": 24,
   "id": "9514e72a",
   "metadata": {},
   "outputs": [
    {
     "name": "stdout",
     "output_type": "stream",
     "text": [
      "(0, 3)\n",
      "(1, 4)\n",
      "(2, 5)\n",
      "(3, 6)\n",
      "(4, 7)\n",
      "(5, 8)\n",
      "(6, 9)\n"
     ]
    }
   ],
   "source": [
    "for x in enumerate(new_list):\n",
    "    print(x)"
   ]
  },
  {
   "cell_type": "code",
   "execution_count": 26,
   "id": "ea553fc1",
   "metadata": {},
   "outputs": [],
   "source": [
    "# random"
   ]
  },
  {
   "cell_type": "code",
   "execution_count": 27,
   "id": "e7445eb3",
   "metadata": {},
   "outputs": [],
   "source": [
    "from random import randint"
   ]
  },
  {
   "cell_type": "code",
   "execution_count": 33,
   "id": "194df78f",
   "metadata": {},
   "outputs": [
    {
     "data": {
      "text/plain": [
       "46"
      ]
     },
     "execution_count": 33,
     "metadata": {},
     "output_type": "execute_result"
    }
   ],
   "source": [
    "randint(0,100) #rastgele sayı getiriyor."
   ]
  },
  {
   "cell_type": "code",
   "execution_count": 34,
   "id": "854cd478",
   "metadata": {},
   "outputs": [],
   "source": [
    "# randint fonksiyonu ile gelen sayıları bir listeye kaydet."
   ]
  },
  {
   "cell_type": "code",
   "execution_count": 46,
   "id": "bd8d5e43",
   "metadata": {},
   "outputs": [],
   "source": [
    "random_list = []"
   ]
  },
  {
   "cell_type": "code",
   "execution_count": 59,
   "id": "0c8cc6e2",
   "metadata": {},
   "outputs": [],
   "source": [
    "random_num = randint(0,100)"
   ]
  },
  {
   "cell_type": "code",
   "execution_count": 60,
   "id": "c197bbf5",
   "metadata": {},
   "outputs": [],
   "source": [
    "random_list.append(random_num)"
   ]
  },
  {
   "cell_type": "code",
   "execution_count": 61,
   "id": "234071ae",
   "metadata": {},
   "outputs": [
    {
     "data": {
      "text/plain": [
       "[27, 13, 61, 83, 45]"
      ]
     },
     "execution_count": 61,
     "metadata": {},
     "output_type": "execute_result"
    }
   ],
   "source": [
    "random_list"
   ]
  },
  {
   "cell_type": "code",
   "execution_count": 65,
   "id": "f5aa335f",
   "metadata": {},
   "outputs": [],
   "source": [
    "from random import shuffle #ilgili listeyi karıştırmak için kullanılıyor."
   ]
  },
  {
   "cell_type": "code",
   "execution_count": 63,
   "id": "60f4f334",
   "metadata": {},
   "outputs": [],
   "source": [
    "shuffle(random_list)"
   ]
  },
  {
   "cell_type": "code",
   "execution_count": 64,
   "id": "3738596a",
   "metadata": {},
   "outputs": [
    {
     "data": {
      "text/plain": [
       "[45, 83, 27, 13, 61]"
      ]
     },
     "execution_count": 64,
     "metadata": {},
     "output_type": "execute_result"
    }
   ],
   "source": [
    "random_list"
   ]
  },
  {
   "cell_type": "code",
   "execution_count": 67,
   "id": "d94aec39",
   "metadata": {},
   "outputs": [],
   "source": [
    "# zip: birden fazla koleksiyonu tek bir hale getirmek."
   ]
  },
  {
   "cell_type": "code",
   "execution_count": 68,
   "id": "e118a408",
   "metadata": {},
   "outputs": [],
   "source": [
    "food_list = [\"apple\", \"banana\", \"melon\"]"
   ]
  },
  {
   "cell_type": "code",
   "execution_count": 69,
   "id": "e7546db0",
   "metadata": {},
   "outputs": [],
   "source": [
    "calories_list = [100,150,200]"
   ]
  },
  {
   "cell_type": "code",
   "execution_count": 71,
   "id": "ae169128",
   "metadata": {},
   "outputs": [],
   "source": [
    "day_list =  [\"monday\", \"tuesday\", \"wednesday\"]"
   ]
  },
  {
   "cell_type": "code",
   "execution_count": 74,
   "id": "e4a42f52",
   "metadata": {},
   "outputs": [],
   "source": [
    "zipped_list = list(zip(food_list, calories_list, day_list))"
   ]
  },
  {
   "cell_type": "code",
   "execution_count": 75,
   "id": "d3bb1950",
   "metadata": {},
   "outputs": [
    {
     "data": {
      "text/plain": [
       "[('apple', 100, 'monday'),\n",
       " ('banana', 150, 'tuesday'),\n",
       " ('melon', 200, 'wednesday')]"
      ]
     },
     "execution_count": 75,
     "metadata": {},
     "output_type": "execute_result"
    }
   ],
   "source": [
    "zipped_list"
   ]
  },
  {
   "cell_type": "code",
   "execution_count": 79,
   "id": "f7760cf5",
   "metadata": {},
   "outputs": [],
   "source": [
    "# list comprehension"
   ]
  },
  {
   "cell_type": "code",
   "execution_count": 76,
   "id": "11647b12",
   "metadata": {},
   "outputs": [],
   "source": [
    "new_list = []\n",
    "new_string = \"tito\""
   ]
  },
  {
   "cell_type": "code",
   "execution_count": 77,
   "id": "de3f5812",
   "metadata": {},
   "outputs": [],
   "source": [
    "for i in new_string:\n",
    "    new_list.append(i)"
   ]
  },
  {
   "cell_type": "code",
   "execution_count": 78,
   "id": "f8f4b44c",
   "metadata": {},
   "outputs": [
    {
     "data": {
      "text/plain": [
       "['t', 'i', 't', 'o']"
      ]
     },
     "execution_count": 78,
     "metadata": {},
     "output_type": "execute_result"
    }
   ],
   "source": [
    "new_list"
   ]
  },
  {
   "cell_type": "code",
   "execution_count": 81,
   "id": "601f0c92",
   "metadata": {},
   "outputs": [],
   "source": [
    "new_list2 = [i for i in new_string]"
   ]
  },
  {
   "cell_type": "code",
   "execution_count": 82,
   "id": "011b2de0",
   "metadata": {},
   "outputs": [
    {
     "data": {
      "text/plain": [
       "['t', 'i', 't', 'o']"
      ]
     },
     "execution_count": 82,
     "metadata": {},
     "output_type": "execute_result"
    }
   ],
   "source": [
    "new_list2"
   ]
  }
 ],
 "metadata": {
  "kernelspec": {
   "display_name": "Python 3 (ipykernel)",
   "language": "python",
   "name": "python3"
  },
  "language_info": {
   "codemirror_mode": {
    "name": "ipython",
    "version": 3
   },
   "file_extension": ".py",
   "mimetype": "text/x-python",
   "name": "python",
   "nbconvert_exporter": "python",
   "pygments_lexer": "ipython3",
   "version": "3.9.7"
  }
 },
 "nbformat": 4,
 "nbformat_minor": 5
}
