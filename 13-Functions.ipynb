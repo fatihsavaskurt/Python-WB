{
 "cells": [
  {
   "cell_type": "code",
   "execution_count": 1,
   "id": "4e3333ab",
   "metadata": {},
   "outputs": [],
   "source": [
    "# method vs function"
   ]
  },
  {
   "cell_type": "code",
   "execution_count": 2,
   "id": "ae7b309f",
   "metadata": {},
   "outputs": [],
   "source": [
    "my_name = \"fatih\""
   ]
  },
  {
   "cell_type": "code",
   "execution_count": 3,
   "id": "52fa0ea8",
   "metadata": {},
   "outputs": [
    {
     "data": {
      "text/plain": [
       "'FATIH'"
      ]
     },
     "execution_count": 3,
     "metadata": {},
     "output_type": "execute_result"
    }
   ],
   "source": [
    "my_name.upper()"
   ]
  },
  {
   "cell_type": "code",
   "execution_count": 4,
   "id": "aa6b848a",
   "metadata": {},
   "outputs": [
    {
     "data": {
      "text/plain": [
       "'fatih'"
      ]
     },
     "execution_count": 4,
     "metadata": {},
     "output_type": "execute_result"
    }
   ],
   "source": [
    "my_name"
   ]
  },
  {
   "cell_type": "code",
   "execution_count": 5,
   "id": "8bfed80e",
   "metadata": {},
   "outputs": [
    {
     "name": "stdout",
     "output_type": "stream",
     "text": [
      "Help on built-in function upper:\n",
      "\n",
      "upper() method of builtins.str instance\n",
      "    Return a copy of the string converted to uppercase.\n",
      "\n"
     ]
    }
   ],
   "source": [
    "help(my_name.upper)"
   ]
  },
  {
   "cell_type": "code",
   "execution_count": 6,
   "id": "07cbc50e",
   "metadata": {},
   "outputs": [],
   "source": [
    "# fonksiyonlar: kod bloklarıdır, sonradan tekrar kullanılabilir, girdi ve çıktı alabilir."
   ]
  },
  {
   "cell_type": "code",
   "execution_count": 7,
   "id": "c9ee1cf0",
   "metadata": {},
   "outputs": [],
   "source": [
    "def hello_python():\n",
    "    print(\"hello\")\n",
    "    print(\"python\")"
   ]
  },
  {
   "cell_type": "code",
   "execution_count": 10,
   "id": "dd721044",
   "metadata": {},
   "outputs": [
    {
     "name": "stdout",
     "output_type": "stream",
     "text": [
      "hello\n",
      "python\n"
     ]
    }
   ],
   "source": [
    "hello_python()"
   ]
  },
  {
   "cell_type": "code",
   "execution_count": 11,
   "id": "132912d4",
   "metadata": {},
   "outputs": [],
   "source": [
    "# input alabilir"
   ]
  },
  {
   "cell_type": "code",
   "execution_count": 12,
   "id": "887ee400",
   "metadata": {},
   "outputs": [],
   "source": [
    "def hello_name(name):\n",
    "    print(\"hello\")\n",
    "    print(name)"
   ]
  },
  {
   "cell_type": "code",
   "execution_count": 14,
   "id": "7d829218",
   "metadata": {},
   "outputs": [
    {
     "name": "stdout",
     "output_type": "stream",
     "text": [
      "hello\n",
      "tito\n"
     ]
    }
   ],
   "source": [
    "hello_name(\"tito\")"
   ]
  },
  {
   "cell_type": "code",
   "execution_count": 15,
   "id": "388c68e0",
   "metadata": {},
   "outputs": [],
   "source": [
    "def sum_example(num1, num2):\n",
    "    print(num1+num2)"
   ]
  },
  {
   "cell_type": "code",
   "execution_count": 16,
   "id": "b3dc8f1c",
   "metadata": {},
   "outputs": [
    {
     "name": "stdout",
     "output_type": "stream",
     "text": [
      "14\n"
     ]
    }
   ],
   "source": [
    "sum_example(4,10)"
   ]
  },
  {
   "cell_type": "code",
   "execution_count": 17,
   "id": "e36a6088",
   "metadata": {},
   "outputs": [],
   "source": [
    "def hello_surname(surname=\"savaskurt\"):\n",
    "    print(\"hello\")\n",
    "    print(surname)"
   ]
  },
  {
   "cell_type": "code",
   "execution_count": 18,
   "id": "b9d4d70c",
   "metadata": {},
   "outputs": [
    {
     "name": "stdout",
     "output_type": "stream",
     "text": [
      "hello\n",
      "savaskurt\n"
     ]
    }
   ],
   "source": [
    "hello_surname()"
   ]
  },
  {
   "cell_type": "code",
   "execution_count": 19,
   "id": "fee343f4",
   "metadata": {},
   "outputs": [],
   "source": [
    "# fonksiyon içerisinde default bir şey atanabilir."
   ]
  },
  {
   "cell_type": "code",
   "execution_count": 20,
   "id": "09ff4cb8",
   "metadata": {},
   "outputs": [],
   "source": [
    "# return"
   ]
  },
  {
   "cell_type": "code",
   "execution_count": 21,
   "id": "05650669",
   "metadata": {},
   "outputs": [],
   "source": [
    "def summation(num1,num2,num3):\n",
    "    print(num1+num2+num3)"
   ]
  },
  {
   "cell_type": "code",
   "execution_count": 24,
   "id": "5949cb23",
   "metadata": {},
   "outputs": [
    {
     "name": "stdout",
     "output_type": "stream",
     "text": [
      "6\n"
     ]
    }
   ],
   "source": [
    "x = summation(1,2,3)"
   ]
  },
  {
   "cell_type": "code",
   "execution_count": 25,
   "id": "cf7559e5",
   "metadata": {},
   "outputs": [
    {
     "data": {
      "text/plain": [
       "NoneType"
      ]
     },
     "execution_count": 25,
     "metadata": {},
     "output_type": "execute_result"
    }
   ],
   "source": [
    "type(x)"
   ]
  },
  {
   "cell_type": "code",
   "execution_count": 26,
   "id": "98888918",
   "metadata": {},
   "outputs": [],
   "source": [
    "def return_summation(num1,num2,num3):\n",
    "    return num1+num2+num3"
   ]
  },
  {
   "cell_type": "code",
   "execution_count": 27,
   "id": "bb40e2e3",
   "metadata": {},
   "outputs": [
    {
     "data": {
      "text/plain": [
       "20"
      ]
     },
     "execution_count": 27,
     "metadata": {},
     "output_type": "execute_result"
    }
   ],
   "source": [
    "return_summation(10,2,8)"
   ]
  },
  {
   "cell_type": "code",
   "execution_count": 28,
   "id": "efa5612a",
   "metadata": {},
   "outputs": [],
   "source": [
    "x = return_summation"
   ]
  },
  {
   "cell_type": "code",
   "execution_count": 30,
   "id": "afe4bc2d",
   "metadata": {},
   "outputs": [
    {
     "data": {
      "text/plain": [
       "<function __main__.return_summation(num1, num2, num3)>"
      ]
     },
     "execution_count": 30,
     "metadata": {},
     "output_type": "execute_result"
    }
   ],
   "source": [
    "x"
   ]
  },
  {
   "cell_type": "code",
   "execution_count": 33,
   "id": "262c60b0",
   "metadata": {},
   "outputs": [],
   "source": [
    "def control_string(s):\n",
    "    if s[0] == \"a\":\n",
    "        print(\"a\")\n",
    "    else:\n",
    "        print(\"this is not string\")"
   ]
  },
  {
   "cell_type": "code",
   "execution_count": 34,
   "id": "64f5d0ef",
   "metadata": {},
   "outputs": [
    {
     "name": "stdout",
     "output_type": "stream",
     "text": [
      "a\n"
     ]
    }
   ],
   "source": [
    "control_string(\"ata\")"
   ]
  },
  {
   "cell_type": "code",
   "execution_count": 35,
   "id": "d4f1e5cb",
   "metadata": {},
   "outputs": [
    {
     "name": "stdout",
     "output_type": "stream",
     "text": [
      "this is not string\n"
     ]
    }
   ],
   "source": [
    "control_string(\"tito\")"
   ]
  },
  {
   "cell_type": "code",
   "execution_count": 36,
   "id": "b296333b",
   "metadata": {},
   "outputs": [],
   "source": [
    "#args, kwargs (arguments, keyword arguments)"
   ]
  },
  {
   "cell_type": "code",
   "execution_count": 38,
   "id": "b09a3ff0",
   "metadata": {},
   "outputs": [],
   "source": [
    "def args_sum(*args): #sınırsız şekilde arguments tanımı\n",
    "    return sum(args)"
   ]
  },
  {
   "cell_type": "code",
   "execution_count": 39,
   "id": "e4d53a19",
   "metadata": {},
   "outputs": [
    {
     "data": {
      "text/plain": [
       "15"
      ]
     },
     "execution_count": 39,
     "metadata": {},
     "output_type": "execute_result"
    }
   ],
   "source": [
    "args_sum(1,2,3,4,5)"
   ]
  },
  {
   "cell_type": "code",
   "execution_count": 40,
   "id": "27bee3eb",
   "metadata": {},
   "outputs": [],
   "source": [
    "def kwargs_example(**kwargs):\n",
    "    print(kwargs)"
   ]
  },
  {
   "cell_type": "code",
   "execution_count": 41,
   "id": "b2ed5480",
   "metadata": {},
   "outputs": [
    {
     "name": "stdout",
     "output_type": "stream",
     "text": [
      "{'apple': 100, 'tito': 300, 'melon': 250}\n"
     ]
    }
   ],
   "source": [
    "kwargs_example(apple=100, tito=300, melon=250)"
   ]
  }
 ],
 "metadata": {
  "kernelspec": {
   "display_name": "Python 3 (ipykernel)",
   "language": "python",
   "name": "python3"
  },
  "language_info": {
   "codemirror_mode": {
    "name": "ipython",
    "version": 3
   },
   "file_extension": ".py",
   "mimetype": "text/x-python",
   "name": "python",
   "nbconvert_exporter": "python",
   "pygments_lexer": "ipython3",
   "version": "3.9.7"
  }
 },
 "nbformat": 4,
 "nbformat_minor": 5
}
