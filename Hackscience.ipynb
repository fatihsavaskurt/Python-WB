{
 "cells": [
  {
   "cell_type": "code",
   "execution_count": 5,
   "metadata": {},
   "outputs": [],
   "source": [
    "the_list = [\n",
    "    143266561,\n",
    "    1738152473,\n",
    "    312377936,\n",
    "    1027708881,\n",
    "    1871655963,\n",
    "    1495785517,\n",
    "    1858250798,\n",
    "    1693786723,\n",
    "    374455497,\n",
    "    430158267,\n",
    "]\n"
   ]
  },
  {
   "cell_type": "code",
   "execution_count": 13,
   "metadata": {},
   "outputs": [],
   "source": [
    "the_list.sort()"
   ]
  },
  {
   "cell_type": "code",
   "execution_count": 14,
   "metadata": {},
   "outputs": [
    {
     "data": {
      "text/plain": [
       "[143266561,\n",
       " 312377936,\n",
       " 374455497,\n",
       " 430158267,\n",
       " 1027708881,\n",
       " 1495785517,\n",
       " 1693786723,\n",
       " 1738152473,\n",
       " 1858250798,\n",
       " 1871655963]"
      ]
     },
     "execution_count": 14,
     "metadata": {},
     "output_type": "execute_result"
    }
   ],
   "source": [
    "the_list"
   ]
  },
  {
   "cell_type": "code",
   "execution_count": 15,
   "metadata": {},
   "outputs": [],
   "source": [
    "import math"
   ]
  },
  {
   "cell_type": "code",
   "execution_count": 16,
   "metadata": {},
   "outputs": [],
   "source": [
    "#!/usr/bin/env python3\n",
    "\n",
    "whetting_your_appetite = \"Python is an easy to learn, powerful programming language. It has efficient high level data structures and a simple but effective approach to object oriented programming. This tutorial introduces the reader informally to the basic concepts and features of the Python language and system. For a description of standard objects and modules...\"\n",
    "\n",
    "# Enter your code below:"
   ]
  },
  {
   "cell_type": "code",
   "execution_count": 18,
   "metadata": {},
   "outputs": [],
   "source": [
    "new_list = whetting_your_appetite.split()"
   ]
  },
  {
   "cell_type": "code",
   "execution_count": 19,
   "metadata": {},
   "outputs": [
    {
     "data": {
      "text/plain": [
       "52"
      ]
     },
     "execution_count": 19,
     "metadata": {},
     "output_type": "execute_result"
    }
   ],
   "source": [
    "len(new_list)"
   ]
  },
  {
   "cell_type": "code",
   "execution_count": 1,
   "metadata": {},
   "outputs": [],
   "source": [
    "def function_test(x):\n",
    "    return x"
   ]
  },
  {
   "cell_type": "code",
   "execution_count": 2,
   "metadata": {},
   "outputs": [
    {
     "data": {
      "text/plain": [
       "4"
      ]
     },
     "execution_count": 2,
     "metadata": {},
     "output_type": "execute_result"
    }
   ],
   "source": [
    "function_test(4)"
   ]
  },
  {
   "cell_type": "code",
   "execution_count": 4,
   "metadata": {},
   "outputs": [],
   "source": [
    "import math"
   ]
  },
  {
   "cell_type": "code",
   "execution_count": 7,
   "metadata": {},
   "outputs": [],
   "source": [
    "def radius_of_circle(x):\n",
    "    return x*math.pi"
   ]
  },
  {
   "cell_type": "code",
   "execution_count": 11,
   "metadata": {},
   "outputs": [
    {
     "data": {
      "text/plain": [
       "628.3185307179587"
      ]
     },
     "execution_count": 11,
     "metadata": {},
     "output_type": "execute_result"
    }
   ],
   "source": [
    "radius_of_circle(200)"
   ]
  },
  {
   "cell_type": "code",
   "execution_count": 18,
   "metadata": {},
   "outputs": [],
   "source": [
    "even_numbers = []\n",
    "for i in range(0,5):\n",
    "    if i % 2 == 0:\n",
    "        even_numbers.append(i)"
   ]
  },
  {
   "cell_type": "code",
   "execution_count": 32,
   "metadata": {},
   "outputs": [],
   "source": [
    "new_list = list(range(0,100))\n",
    "even_list = []"
   ]
  },
  {
   "cell_type": "code",
   "execution_count": 33,
   "metadata": {},
   "outputs": [],
   "source": [
    "for i in new_list:\n",
    "    if i % 2 == 0:\n",
    "        even_list.append(i)"
   ]
  },
  {
   "cell_type": "code",
   "execution_count": 35,
   "metadata": {},
   "outputs": [
    {
     "data": {
      "text/plain": [
       "2450"
      ]
     },
     "execution_count": 35,
     "metadata": {},
     "output_type": "execute_result"
    }
   ],
   "source": [
    "sum(even_list)"
   ]
  },
  {
   "cell_type": "code",
   "execution_count": 19,
   "metadata": {},
   "outputs": [
    {
     "data": {
      "text/plain": [
       "[0, 2, 4]"
      ]
     },
     "execution_count": 19,
     "metadata": {},
     "output_type": "execute_result"
    }
   ],
   "source": [
    "even_numbers"
   ]
  },
  {
   "cell_type": "code",
   "execution_count": 9,
   "metadata": {},
   "outputs": [],
   "source": [
    "x = 100\n",
    "\n",
    "def circle_perimeter(x):\n",
    "    return x*math.pi"
   ]
  },
  {
   "cell_type": "code",
   "execution_count": 37,
   "metadata": {},
   "outputs": [
    {
     "name": "stdout",
     "output_type": "stream",
     "text": [
      "2550\n"
     ]
    }
   ],
   "source": [
    "print(sum([i for i in range(101) if i % 2 == 0]))"
   ]
  },
  {
   "cell_type": "code",
   "execution_count": 36,
   "metadata": {},
   "outputs": [],
   "source": [
    "# 1000'den küçük (< 1000) ve 3 veya 5'in katları olan tüm doğal sayıların toplamını bulan ve bunu yazdırılan bir program yazın."
   ]
  },
  {
   "cell_type": "code",
   "execution_count": 38,
   "metadata": {},
   "outputs": [
    {
     "name": "stdout",
     "output_type": "stream",
     "text": [
      "233168\n"
     ]
    }
   ],
   "source": [
    "print(sum([i for i in range(1000) if i % 3 == 0 or i % 5 == 0]))"
   ]
  },
  {
   "cell_type": "code",
   "execution_count": 39,
   "metadata": {},
   "outputs": [],
   "source": [
    "# from fahrenheit to celcius: (X-32)*5/9\n",
    "# from celsius to fahrenheit: (x*5/9 + 32)"
   ]
  },
  {
   "cell_type": "code",
   "execution_count": 41,
   "metadata": {},
   "outputs": [],
   "source": [
    "def fahrenheit_to_celsius(temp):\n",
    "    return(temp-32)*5/9"
   ]
  },
  {
   "cell_type": "code",
   "execution_count": 47,
   "metadata": {},
   "outputs": [],
   "source": [
    "def celsius_to_fahrenheit(temp):\n",
    "    return(temp*9/5+32)"
   ]
  },
  {
   "cell_type": "code",
   "execution_count": 48,
   "metadata": {
    "scrolled": true
   },
   "outputs": [
    {
     "name": "stdout",
     "output_type": "stream",
     "text": [
      "212.0\n"
     ]
    }
   ],
   "source": [
    "celsius_to_fahrenheit(100)"
   ]
  },
  {
   "cell_type": "code",
   "execution_count": 51,
   "metadata": {},
   "outputs": [],
   "source": [
    "import string"
   ]
  },
  {
   "cell_type": "code",
   "execution_count": 53,
   "metadata": {},
   "outputs": [
    {
     "data": {
      "text/plain": [
       "'abcdefghijklmnopqrstuvwxyz'"
      ]
     },
     "execution_count": 53,
     "metadata": {},
     "output_type": "execute_result"
    }
   ],
   "source": [
    "string.ascii_lowercase"
   ]
  },
  {
   "cell_type": "code",
   "execution_count": 66,
   "metadata": {},
   "outputs": [
    {
     "name": "stdout",
     "output_type": "stream",
     "text": [
      "aa\n",
      "ab\n",
      "ac\n",
      "ad\n",
      "ae\n",
      "af\n",
      "ag\n",
      "ah\n",
      "ai\n",
      "aj\n",
      "ak\n",
      "al\n",
      "am\n",
      "an\n",
      "ao\n",
      "ap\n",
      "aq\n",
      "ar\n",
      "as\n",
      "at\n",
      "au\n",
      "av\n",
      "aw\n",
      "ax\n",
      "ay\n",
      "az\n",
      "ba\n",
      "bb\n",
      "bc\n",
      "bd\n",
      "be\n",
      "bf\n",
      "bg\n",
      "bh\n",
      "bi\n",
      "bj\n",
      "bk\n",
      "bl\n",
      "bm\n",
      "bn\n",
      "bo\n",
      "bp\n",
      "bq\n",
      "br\n",
      "bs\n",
      "bt\n",
      "bu\n",
      "bv\n",
      "bw\n",
      "bx\n",
      "by\n",
      "bz\n",
      "ca\n",
      "cb\n",
      "cc\n",
      "cd\n",
      "ce\n",
      "cf\n",
      "cg\n",
      "ch\n",
      "ci\n",
      "cj\n",
      "ck\n",
      "cl\n",
      "cm\n",
      "cn\n",
      "co\n",
      "cp\n",
      "cq\n",
      "cr\n",
      "cs\n",
      "ct\n",
      "cu\n",
      "cv\n",
      "cw\n",
      "cx\n",
      "cy\n",
      "cz\n",
      "da\n",
      "db\n",
      "dc\n",
      "dd\n",
      "de\n",
      "df\n",
      "dg\n",
      "dh\n",
      "di\n",
      "dj\n",
      "dk\n",
      "dl\n",
      "dm\n",
      "dn\n",
      "do\n",
      "dp\n",
      "dq\n",
      "dr\n",
      "ds\n",
      "dt\n",
      "du\n",
      "dv\n",
      "dw\n",
      "dx\n",
      "dy\n",
      "dz\n",
      "ea\n",
      "eb\n",
      "ec\n",
      "ed\n",
      "ee\n",
      "ef\n",
      "eg\n",
      "eh\n",
      "ei\n",
      "ej\n",
      "ek\n",
      "el\n",
      "em\n",
      "en\n",
      "eo\n",
      "ep\n",
      "eq\n",
      "er\n",
      "es\n",
      "et\n",
      "eu\n",
      "ev\n",
      "ew\n",
      "ex\n",
      "ey\n",
      "ez\n",
      "fa\n",
      "fb\n",
      "fc\n",
      "fd\n",
      "fe\n",
      "ff\n",
      "fg\n",
      "fh\n",
      "fi\n",
      "fj\n",
      "fk\n",
      "fl\n",
      "fm\n",
      "fn\n",
      "fo\n",
      "fp\n",
      "fq\n",
      "fr\n",
      "fs\n",
      "ft\n",
      "fu\n",
      "fv\n",
      "fw\n",
      "fx\n",
      "fy\n",
      "fz\n",
      "ga\n",
      "gb\n",
      "gc\n",
      "gd\n",
      "ge\n",
      "gf\n",
      "gg\n",
      "gh\n",
      "gi\n",
      "gj\n",
      "gk\n",
      "gl\n",
      "gm\n",
      "gn\n",
      "go\n",
      "gp\n",
      "gq\n",
      "gr\n",
      "gs\n",
      "gt\n",
      "gu\n",
      "gv\n",
      "gw\n",
      "gx\n",
      "gy\n",
      "gz\n",
      "ha\n",
      "hb\n",
      "hc\n",
      "hd\n",
      "he\n",
      "hf\n",
      "hg\n",
      "hh\n",
      "hi\n",
      "hj\n",
      "hk\n",
      "hl\n",
      "hm\n",
      "hn\n",
      "ho\n",
      "hp\n",
      "hq\n",
      "hr\n",
      "hs\n",
      "ht\n",
      "hu\n",
      "hv\n",
      "hw\n",
      "hx\n",
      "hy\n",
      "hz\n",
      "ia\n",
      "ib\n",
      "ic\n",
      "id\n",
      "ie\n",
      "if\n",
      "ig\n",
      "ih\n",
      "ii\n",
      "ij\n",
      "ik\n",
      "il\n",
      "im\n",
      "in\n",
      "io\n",
      "ip\n",
      "iq\n",
      "ir\n",
      "is\n",
      "it\n",
      "iu\n",
      "iv\n",
      "iw\n",
      "ix\n",
      "iy\n",
      "iz\n",
      "ja\n",
      "jb\n",
      "jc\n",
      "jd\n",
      "je\n",
      "jf\n",
      "jg\n",
      "jh\n",
      "ji\n",
      "jj\n",
      "jk\n",
      "jl\n",
      "jm\n",
      "jn\n",
      "jo\n",
      "jp\n",
      "jq\n",
      "jr\n",
      "js\n",
      "jt\n",
      "ju\n",
      "jv\n",
      "jw\n",
      "jx\n",
      "jy\n",
      "jz\n",
      "ka\n",
      "kb\n",
      "kc\n",
      "kd\n",
      "ke\n",
      "kf\n",
      "kg\n",
      "kh\n",
      "ki\n",
      "kj\n",
      "kk\n",
      "kl\n",
      "km\n",
      "kn\n",
      "ko\n",
      "kp\n",
      "kq\n",
      "kr\n",
      "ks\n",
      "kt\n",
      "ku\n",
      "kv\n",
      "kw\n",
      "kx\n",
      "ky\n",
      "kz\n",
      "la\n",
      "lb\n",
      "lc\n",
      "ld\n",
      "le\n",
      "lf\n",
      "lg\n",
      "lh\n",
      "li\n",
      "lj\n",
      "lk\n",
      "ll\n",
      "lm\n",
      "ln\n",
      "lo\n",
      "lp\n",
      "lq\n",
      "lr\n",
      "ls\n",
      "lt\n",
      "lu\n",
      "lv\n",
      "lw\n",
      "lx\n",
      "ly\n",
      "lz\n",
      "ma\n",
      "mb\n",
      "mc\n",
      "md\n",
      "me\n",
      "mf\n",
      "mg\n",
      "mh\n",
      "mi\n",
      "mj\n",
      "mk\n",
      "ml\n",
      "mm\n",
      "mn\n",
      "mo\n",
      "mp\n",
      "mq\n",
      "mr\n",
      "ms\n",
      "mt\n",
      "mu\n",
      "mv\n",
      "mw\n",
      "mx\n",
      "my\n",
      "mz\n",
      "na\n",
      "nb\n",
      "nc\n",
      "nd\n",
      "ne\n",
      "nf\n",
      "ng\n",
      "nh\n",
      "ni\n",
      "nj\n",
      "nk\n",
      "nl\n",
      "nm\n",
      "nn\n",
      "no\n",
      "np\n",
      "nq\n",
      "nr\n",
      "ns\n",
      "nt\n",
      "nu\n",
      "nv\n",
      "nw\n",
      "nx\n",
      "ny\n",
      "nz\n",
      "oa\n",
      "ob\n",
      "oc\n",
      "od\n",
      "oe\n",
      "of\n",
      "og\n",
      "oh\n",
      "oi\n",
      "oj\n",
      "ok\n",
      "ol\n",
      "om\n",
      "on\n",
      "oo\n",
      "op\n",
      "oq\n",
      "or\n",
      "os\n",
      "ot\n",
      "ou\n",
      "ov\n",
      "ow\n",
      "ox\n",
      "oy\n",
      "oz\n",
      "pa\n",
      "pb\n",
      "pc\n",
      "pd\n",
      "pe\n",
      "pf\n",
      "pg\n",
      "ph\n",
      "pi\n",
      "pj\n",
      "pk\n",
      "pl\n",
      "pm\n",
      "pn\n",
      "po\n",
      "pp\n",
      "pq\n",
      "pr\n",
      "ps\n",
      "pt\n",
      "pu\n",
      "pv\n",
      "pw\n",
      "px\n",
      "py\n",
      "pz\n",
      "qa\n",
      "qb\n",
      "qc\n",
      "qd\n",
      "qe\n",
      "qf\n",
      "qg\n",
      "qh\n",
      "qi\n",
      "qj\n",
      "qk\n",
      "ql\n",
      "qm\n",
      "qn\n",
      "qo\n",
      "qp\n",
      "qq\n",
      "qr\n",
      "qs\n",
      "qt\n",
      "qu\n",
      "qv\n",
      "qw\n",
      "qx\n",
      "qy\n",
      "qz\n",
      "ra\n",
      "rb\n",
      "rc\n",
      "rd\n",
      "re\n",
      "rf\n",
      "rg\n",
      "rh\n",
      "ri\n",
      "rj\n",
      "rk\n",
      "rl\n",
      "rm\n",
      "rn\n",
      "ro\n",
      "rp\n",
      "rq\n",
      "rr\n",
      "rs\n",
      "rt\n",
      "ru\n",
      "rv\n",
      "rw\n",
      "rx\n",
      "ry\n",
      "rz\n",
      "sa\n",
      "sb\n",
      "sc\n",
      "sd\n",
      "se\n",
      "sf\n",
      "sg\n",
      "sh\n",
      "si\n",
      "sj\n",
      "sk\n",
      "sl\n",
      "sm\n",
      "sn\n",
      "so\n",
      "sp\n",
      "sq\n",
      "sr\n",
      "ss\n",
      "st\n",
      "su\n",
      "sv\n",
      "sw\n",
      "sx\n",
      "sy\n",
      "sz\n",
      "ta\n",
      "tb\n",
      "tc\n",
      "td\n",
      "te\n",
      "tf\n",
      "tg\n",
      "th\n",
      "ti\n",
      "tj\n",
      "tk\n",
      "tl\n",
      "tm\n",
      "tn\n",
      "to\n",
      "tp\n",
      "tq\n",
      "tr\n",
      "ts\n",
      "tt\n",
      "tu\n",
      "tv\n",
      "tw\n",
      "tx\n",
      "ty\n",
      "tz\n",
      "ua\n",
      "ub\n",
      "uc\n",
      "ud\n",
      "ue\n",
      "uf\n",
      "ug\n",
      "uh\n",
      "ui\n",
      "uj\n",
      "uk\n",
      "ul\n",
      "um\n",
      "un\n",
      "uo\n",
      "up\n",
      "uq\n",
      "ur\n",
      "us\n",
      "ut\n",
      "uu\n",
      "uv\n",
      "uw\n",
      "ux\n",
      "uy\n",
      "uz\n",
      "va\n",
      "vb\n",
      "vc\n",
      "vd\n",
      "ve\n",
      "vf\n",
      "vg\n",
      "vh\n",
      "vi\n",
      "vj\n",
      "vk\n",
      "vl\n",
      "vm\n",
      "vn\n",
      "vo\n",
      "vp\n",
      "vq\n",
      "vr\n",
      "vs\n",
      "vt\n",
      "vu\n",
      "vv\n",
      "vw\n",
      "vx\n",
      "vy\n",
      "vz\n",
      "wa\n",
      "wb\n",
      "wc\n",
      "wd\n",
      "we\n",
      "wf\n",
      "wg\n",
      "wh\n",
      "wi\n",
      "wj\n",
      "wk\n",
      "wl\n",
      "wm\n",
      "wn\n",
      "wo\n",
      "wp\n",
      "wq\n",
      "wr\n",
      "ws\n",
      "wt\n",
      "wu\n",
      "wv\n",
      "ww\n",
      "wx\n",
      "wy\n",
      "wz\n",
      "xa\n",
      "xb\n",
      "xc\n",
      "xd\n",
      "xe\n",
      "xf\n",
      "xg\n",
      "xh\n",
      "xi\n",
      "xj\n",
      "xk\n",
      "xl\n",
      "xm\n",
      "xn\n",
      "xo\n",
      "xp\n",
      "xq\n",
      "xr\n",
      "xs\n",
      "xt\n",
      "xu\n",
      "xv\n",
      "xw\n",
      "xx\n",
      "xy\n",
      "xz\n",
      "ya\n",
      "yb\n",
      "yc\n",
      "yd\n",
      "ye\n",
      "yf\n",
      "yg\n",
      "yh\n",
      "yi\n",
      "yj\n",
      "yk\n",
      "yl\n",
      "ym\n",
      "yn\n",
      "yo\n",
      "yp\n",
      "yq\n",
      "yr\n",
      "ys\n",
      "yt\n",
      "yu\n",
      "yv\n",
      "yw\n",
      "yx\n",
      "yy\n",
      "yz\n",
      "za\n",
      "zb\n",
      "zc\n",
      "zd\n",
      "ze\n",
      "zf\n",
      "zg\n",
      "zh\n",
      "zi\n",
      "zj\n",
      "zk\n",
      "zl\n",
      "zm\n",
      "zn\n",
      "zo\n",
      "zp\n",
      "zq\n",
      "zr\n",
      "zs\n",
      "zt\n",
      "zu\n",
      "zv\n",
      "zw\n",
      "zx\n",
      "zy\n",
      "zz\n"
     ]
    }
   ],
   "source": [
    "for first in string.ascii_lowercase:\n",
    "    for second in string.ascii_lowercase:\n",
    "        print(first+second)"
   ]
  },
  {
   "cell_type": "code",
   "execution_count": 68,
   "metadata": {},
   "outputs": [
    {
     "name": "stdout",
     "output_type": "stream",
     "text": [
      "97\n",
      "98\n",
      "99\n",
      "100\n",
      "101\n",
      "102\n",
      "103\n",
      "104\n",
      "105\n",
      "106\n",
      "107\n",
      "108\n",
      "109\n",
      "110\n",
      "111\n",
      "112\n",
      "113\n",
      "114\n",
      "115\n",
      "116\n",
      "117\n",
      "118\n",
      "119\n",
      "120\n",
      "121\n",
      "122\n"
     ]
    }
   ],
   "source": [
    "for k in range(97,123):\n",
    "    print(k)"
   ]
  },
  {
   "cell_type": "code",
   "execution_count": 69,
   "metadata": {},
   "outputs": [],
   "source": [
    "longest_word = (\"We want a SHRUBBERY\")"
   ]
  },
  {
   "cell_type": "code",
   "execution_count": 70,
   "metadata": {},
   "outputs": [
    {
     "data": {
      "text/plain": [
       "'We want a SHRUBBERY'"
      ]
     },
     "execution_count": 70,
     "metadata": {},
     "output_type": "execute_result"
    }
   ],
   "source": [
    "longest_word"
   ]
  },
  {
   "cell_type": "code",
   "execution_count": 75,
   "metadata": {},
   "outputs": [
    {
     "data": {
      "text/plain": [
       "['We', 'want', 'a', 'SHRUBBERY']"
      ]
     },
     "execution_count": 75,
     "metadata": {},
     "output_type": "execute_result"
    }
   ],
   "source": [
    "longest_word.split()"
   ]
  },
  {
   "cell_type": "code",
   "execution_count": 84,
   "metadata": {},
   "outputs": [
    {
     "ename": "TypeError",
     "evalue": "'int' object is not iterable",
     "output_type": "error",
     "traceback": [
      "\u001b[1;31m---------------------------------------------------------------------------\u001b[0m",
      "\u001b[1;31mTypeError\u001b[0m                                 Traceback (most recent call last)",
      "Cell \u001b[1;32mIn [84], line 3\u001b[0m\n\u001b[0;32m      1\u001b[0m \u001b[38;5;28;01mfor\u001b[39;00m i \u001b[38;5;129;01min\u001b[39;00m longest_word\u001b[38;5;241m.\u001b[39msplit():\n\u001b[0;32m      2\u001b[0m     word_len \u001b[38;5;241m=\u001b[39m \u001b[38;5;28mlen\u001b[39m(i)\n\u001b[1;32m----> 3\u001b[0m     \u001b[38;5;28mprint\u001b[39m(\u001b[38;5;28;43mmax\u001b[39;49m\u001b[43m(\u001b[49m\u001b[43mword_len\u001b[49m\u001b[43m)\u001b[49m)\n",
      "\u001b[1;31mTypeError\u001b[0m: 'int' object is not iterable"
     ]
    }
   ],
   "source": [
    "for i in longest_word.split():\n",
    "    word_len = len(i)\n",
    "    print(max(word_len))"
   ]
  },
  {
   "cell_type": "code",
   "execution_count": 86,
   "metadata": {},
   "outputs": [],
   "source": [
    "# Provide a script printing every possible sorbet duos from a given list of flavors.\n",
    "\n",
    "# Don't print recipes with twice the same flavor (no \"Chocolate, Chocolate\"), \n",
    "# and don't print twice the same recipe (if you print \"Vanilla, Chocolate\", don't print \"Chocolate, Vanilla\", or vice-versa)."
   ]
  },
  {
   "cell_type": "code",
   "execution_count": 90,
   "metadata": {},
   "outputs": [],
   "source": [
    "flavors = [\n",
    "    \"Banana\",\n",
    "    \"Chocolate\",\n",
    "    \"Lemon\",\n",
    "    \"Pistachio\",\n",
    "    \"Raspberry\",\n",
    "    \"Strawberry\",\n",
    "    \"Vanilla\",\n",
    "]"
   ]
  },
  {
   "cell_type": "code",
   "execution_count": 101,
   "metadata": {},
   "outputs": [],
   "source": [
    "flavors_list = []\n",
    "for first in flavors:\n",
    "    for second in flavors:\n",
    "        if first != second:\n",
    "            flavors_list.append(first + ' ' + second)"
   ]
  },
  {
   "cell_type": "code",
   "execution_count": 105,
   "metadata": {},
   "outputs": [],
   "source": [
    "flavors = [\n",
    "    \"Banana\",\n",
    "    \"Chocolate\",\n",
    "    \"Lemon\",\n",
    "    \"Pistachio\",\n",
    "    \"Raspberry\",\n",
    "    \"Strawberry\",\n",
    "    \"Vanilla\",\n",
    "]\n",
    "\n",
    "flavors_list = []\n",
    "\n",
    "for first in flavors:\n",
    "    for second in flavors:\n",
    "        if first != second:\n",
    "            flavors_list.append(first + ',' + ' ' + second)"
   ]
  },
  {
   "cell_type": "code",
   "execution_count": 109,
   "metadata": {},
   "outputs": [
    {
     "data": {
      "text/plain": [
       "'Banana, Chocolate'"
      ]
     },
     "execution_count": 109,
     "metadata": {},
     "output_type": "execute_result"
    }
   ],
   "source": [
    "flavors_list[0]"
   ]
  },
  {
   "cell_type": "code",
   "execution_count": 111,
   "metadata": {},
   "outputs": [
    {
     "name": "stdout",
     "output_type": "stream",
     "text": [
      "0\n",
      "1\n",
      "2\n",
      "3\n",
      "4\n",
      "5\n",
      "6\n"
     ]
    }
   ],
   "source": [
    "flavors = [\n",
    "    \"Banana\",\n",
    "    \"Chocolate\",\n",
    "    \"Lemon\",\n",
    "    \"Pistachio\",\n",
    "    \"Raspberry\",\n",
    "    \"Strawberry\",\n",
    "    \"Vanilla\",\n",
    "]\n",
    "\n",
    "for i in range(len(flavors)):\n",
    "    for j in range(i + 1, len(flavors)):\n",
    "        print(f\"{flavors[i]}, {flavors[j]}\")\n"
   ]
  },
  {
   "cell_type": "code",
   "execution_count": 124,
   "metadata": {},
   "outputs": [],
   "source": [
    "points = [3,4,5,6,7]"
   ]
  },
  {
   "cell_type": "code",
   "execution_count": 125,
   "metadata": {},
   "outputs": [
    {
     "data": {
      "text/plain": [
       "[3, 4, 5, 6, 7]"
      ]
     },
     "execution_count": 125,
     "metadata": {},
     "output_type": "execute_result"
    }
   ],
   "source": [
    "points"
   ]
  },
  {
   "cell_type": "code",
   "execution_count": 128,
   "metadata": {},
   "outputs": [
    {
     "ename": "SyntaxError",
     "evalue": "invalid syntax (3007282675.py, line 1)",
     "output_type": "error",
     "traceback": [
      "\u001b[1;36m  Cell \u001b[1;32mIn [128], line 1\u001b[1;36m\u001b[0m\n\u001b[1;33m    dist(points):\u001b[0m\n\u001b[1;37m                 ^\u001b[0m\n\u001b[1;31mSyntaxError\u001b[0m\u001b[1;31m:\u001b[0m invalid syntax\n"
     ]
    }
   ],
   "source": [
    "dist(points):"
   ]
  },
  {
   "cell_type": "code",
   "execution_count": 117,
   "metadata": {},
   "outputs": [
    {
     "name": "stdout",
     "output_type": "stream",
     "text": [
      "3\n"
     ]
    }
   ],
   "source": [
    "print(min(num_list))"
   ]
  },
  {
   "cell_type": "code",
   "execution_count": null,
   "metadata": {},
   "outputs": [],
   "source": []
  },
  {
   "cell_type": "code",
   "execution_count": 122,
   "metadata": {},
   "outputs": [],
   "source": [
    "def dist(points):\n",
    "    min_value = min(points)\n",
    "    max_value = max(points)\n",
    "    print(max_value - min_value)"
   ]
  },
  {
   "cell_type": "code",
   "execution_count": null,
   "metadata": {},
   "outputs": [],
   "source": [
    "\"\"\"\n",
    "0 ile 1000 arasında (her ikisi dahil) 7 ile bölünebilen ve rakamlarının toplamı 3 ile bölünebilen tüm sayıları bulup yazdırmak\n",
    "için bir program oluşturun.\n",
    "\n",
    "Örneğin, 1512 sayısının 7 ile bölünebilen bir sayıdır ve tüm rakamlarının toplamı (9) 3 ile bölünebilen bir sayıdır.\n",
    "\n",
    "Başka bir örnek olarak, 21 sayısı 7 ile bölünebilen bir sayıdır ve rakamlarının toplamı (3) 3 ile bölünebilen bir sayıdır.\n",
    "\"\"\""
   ]
  },
  {
   "cell_type": "code",
   "execution_count": 131,
   "metadata": {},
   "outputs": [],
   "source": [
    "# 7'ye bölünen sayılar.\n",
    "divided_seven = []\n",
    "for i in range(0,1001):\n",
    "    if i % 7 == 0:\n",
    "        divided_seven.append(i)"
   ]
  },
  {
   "cell_type": "code",
   "execution_count": 147,
   "metadata": {},
   "outputs": [],
   "source": [
    "sayı = [123,1244]\n",
    "new_list = []\n",
    "for i in sayı:\n",
    "    new_list.append(i)"
   ]
  },
  {
   "cell_type": "code",
   "execution_count": 149,
   "metadata": {},
   "outputs": [
    {
     "ename": "AttributeError",
     "evalue": "'list' object has no attribute 'split'",
     "output_type": "error",
     "traceback": [
      "\u001b[1;31m---------------------------------------------------------------------------\u001b[0m",
      "\u001b[1;31mAttributeError\u001b[0m                            Traceback (most recent call last)",
      "Cell \u001b[1;32mIn [149], line 1\u001b[0m\n\u001b[1;32m----> 1\u001b[0m \u001b[43mnew_list\u001b[49m\u001b[38;5;241;43m.\u001b[39;49m\u001b[43msplit\u001b[49m()\n",
      "\u001b[1;31mAttributeError\u001b[0m: 'list' object has no attribute 'split'"
     ]
    }
   ],
   "source": [
    "new_list.split()"
   ]
  },
  {
   "cell_type": "code",
   "execution_count": 150,
   "metadata": {},
   "outputs": [],
   "source": [
    "def sum_digits(n):\n",
    "    return sum(int(digit) for digit in str(abs(n)))\n"
   ]
  },
  {
   "cell_type": "code",
   "execution_count": 151,
   "metadata": {},
   "outputs": [
    {
     "data": {
      "text/plain": [
       "6"
      ]
     },
     "execution_count": 151,
     "metadata": {},
     "output_type": "execute_result"
    }
   ],
   "source": [
    "sum_digits(123)"
   ]
  }
 ],
 "metadata": {
  "kernelspec": {
   "display_name": "Python 3 (ipykernel)",
   "language": "python",
   "name": "python3"
  },
  "language_info": {
   "codemirror_mode": {
    "name": "ipython",
    "version": 3
   },
   "file_extension": ".py",
   "mimetype": "text/x-python",
   "name": "python",
   "nbconvert_exporter": "python",
   "pygments_lexer": "ipython3",
   "version": "3.9.7"
  }
 },
 "nbformat": 4,
 "nbformat_minor": 4
}
