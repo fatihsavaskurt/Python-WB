{
 "cells": [
  {
   "cell_type": "code",
   "execution_count": 1,
   "id": "e02cd53c",
   "metadata": {},
   "outputs": [
    {
     "name": "stdout",
     "output_type": "stream",
     "text": [
      "enter age: 45\n"
     ]
    }
   ],
   "source": [
    "age = input(\"enter age: \")"
   ]
  },
  {
   "cell_type": "code",
   "execution_count": 2,
   "id": "459fbfc2",
   "metadata": {},
   "outputs": [
    {
     "data": {
      "text/plain": [
       "'45'"
      ]
     },
     "execution_count": 2,
     "metadata": {},
     "output_type": "execute_result"
    }
   ],
   "source": [
    "age"
   ]
  },
  {
   "cell_type": "code",
   "execution_count": 3,
   "id": "01882f90",
   "metadata": {},
   "outputs": [
    {
     "data": {
      "text/plain": [
       "90"
      ]
     },
     "execution_count": 3,
     "metadata": {},
     "output_type": "execute_result"
    }
   ],
   "source": [
    "int(age)*2"
   ]
  },
  {
   "cell_type": "code",
   "execution_count": 4,
   "id": "ced5261a",
   "metadata": {},
   "outputs": [],
   "source": [
    "# try - except"
   ]
  },
  {
   "cell_type": "code",
   "execution_count": 8,
   "id": "d68f8a46",
   "metadata": {},
   "outputs": [
    {
     "name": "stdout",
     "output_type": "stream",
     "text": [
      "enter age: 45\n",
      "90\n",
      "finally\n"
     ]
    }
   ],
   "source": [
    "while True:\n",
    "    try: \n",
    "        myAge = int(input(\"enter age: \"))\n",
    "        print(myAge*2)\n",
    "        break\n",
    "    except:\n",
    "        print(\"enter your age!!\")\n",
    "    else:\n",
    "        print(\"else executed\")\n",
    "    finally:\n",
    "        print(\"finally\")"
   ]
  }
 ],
 "metadata": {
  "kernelspec": {
   "display_name": "Python 3 (ipykernel)",
   "language": "python",
   "name": "python3"
  },
  "language_info": {
   "codemirror_mode": {
    "name": "ipython",
    "version": 3
   },
   "file_extension": ".py",
   "mimetype": "text/x-python",
   "name": "python",
   "nbconvert_exporter": "python",
   "pygments_lexer": "ipython3",
   "version": "3.9.7"
  }
 },
 "nbformat": 4,
 "nbformat_minor": 5
}
