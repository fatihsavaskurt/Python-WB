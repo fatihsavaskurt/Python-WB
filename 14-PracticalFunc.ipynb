{
 "cells": [
  {
   "cell_type": "code",
   "execution_count": 1,
   "id": "2a54487c",
   "metadata": {},
   "outputs": [],
   "source": [
    "def divideNumber(number):\n",
    "    return number / 2"
   ]
  },
  {
   "cell_type": "code",
   "execution_count": 2,
   "id": "268e597f",
   "metadata": {},
   "outputs": [
    {
     "data": {
      "text/plain": [
       "10.0"
      ]
     },
     "execution_count": 2,
     "metadata": {},
     "output_type": "execute_result"
    }
   ],
   "source": [
    "divideNumber(20)"
   ]
  },
  {
   "cell_type": "code",
   "execution_count": 7,
   "id": "779f46d0",
   "metadata": {},
   "outputs": [],
   "source": [
    "my_list = [3,5,7,10,20,30]"
   ]
  },
  {
   "cell_type": "code",
   "execution_count": 10,
   "id": "752352cd",
   "metadata": {},
   "outputs": [],
   "source": [
    "my_result_list = []"
   ]
  },
  {
   "cell_type": "code",
   "execution_count": 11,
   "id": "27a3dca3",
   "metadata": {},
   "outputs": [],
   "source": [
    "for i in my_list:\n",
    "    my_result_list.append(divideNumber(i))"
   ]
  },
  {
   "cell_type": "code",
   "execution_count": 12,
   "id": "a35c0474",
   "metadata": {},
   "outputs": [
    {
     "data": {
      "text/plain": [
       "[1.5, 2.5, 3.5, 5.0, 10.0, 15.0]"
      ]
     },
     "execution_count": 12,
     "metadata": {},
     "output_type": "execute_result"
    }
   ],
   "source": [
    "my_result_list"
   ]
  },
  {
   "cell_type": "code",
   "execution_count": 31,
   "id": "a07b4bc1",
   "metadata": {},
   "outputs": [],
   "source": [
    "# map\n",
    "# bir fonksiyon ve koleksiyonu verirsek, bizim için fonksiyonu uyguluyor.\n",
    "\n",
    "# map(fonksiyon_adı, liste veya koleksiyon adı)"
   ]
  },
  {
   "cell_type": "code",
   "execution_count": 16,
   "id": "6337232d",
   "metadata": {},
   "outputs": [
    {
     "data": {
      "text/plain": [
       "[1.5, 2.5, 3.5, 5.0, 10.0, 15.0]"
      ]
     },
     "execution_count": 16,
     "metadata": {},
     "output_type": "execute_result"
    }
   ],
   "source": [
    "list(map(divideNumber,my_list))"
   ]
  },
  {
   "cell_type": "code",
   "execution_count": 17,
   "id": "4b74cfde",
   "metadata": {},
   "outputs": [],
   "source": [
    "# filter\n",
    "# bir fonksiyon ve koleksiyonu verdiğimde, bizim için filtre uyguluyor, yani sadece true olanları getiriyor."
   ]
  },
  {
   "cell_type": "code",
   "execution_count": 21,
   "id": "1292679d",
   "metadata": {},
   "outputs": [],
   "source": [
    "my_string_list = [\"Tito\", \"Tito Savaşkurt\",\"Savaş\",\"Tuğçe\",\"Tito\"]"
   ]
  },
  {
   "cell_type": "code",
   "execution_count": 22,
   "id": "47aa4b13",
   "metadata": {},
   "outputs": [],
   "source": [
    "def control_string(string):\n",
    "    return \"Tito\" in string"
   ]
  },
  {
   "cell_type": "raw",
   "id": "11aca498",
   "metadata": {},
   "source": [
    "control_string(my_string_list)"
   ]
  },
  {
   "cell_type": "code",
   "execution_count": 27,
   "id": "e048c22c",
   "metadata": {},
   "outputs": [
    {
     "data": {
      "text/plain": [
       "[True, True, False, False, True]"
      ]
     },
     "execution_count": 27,
     "metadata": {},
     "output_type": "execute_result"
    }
   ],
   "source": [
    "list(map(control_string, my_string_list))"
   ]
  },
  {
   "cell_type": "code",
   "execution_count": 28,
   "id": "698a9283",
   "metadata": {},
   "outputs": [],
   "source": [
    "# yukarıdaki listede içinde sadece Tito geçen stringleri almak istiyorum.\n",
    "\n",
    "# Bunun için filter fonksiyonunu kullanabiliyorum."
   ]
  },
  {
   "cell_type": "code",
   "execution_count": 32,
   "id": "f532ee48",
   "metadata": {},
   "outputs": [],
   "source": [
    "# filter(fonksiyon_adı, liste veya koleksiyon adı)"
   ]
  },
  {
   "cell_type": "code",
   "execution_count": 30,
   "id": "bb07d6cc",
   "metadata": {},
   "outputs": [
    {
     "data": {
      "text/plain": [
       "['Tito', 'Tito Savaşkurt', 'Tito']"
      ]
     },
     "execution_count": 30,
     "metadata": {},
     "output_type": "execute_result"
    }
   ],
   "source": [
    "list(filter(control_string, my_string_list))"
   ]
  },
  {
   "cell_type": "code",
   "execution_count": 34,
   "id": "fba644ae",
   "metadata": {},
   "outputs": [],
   "source": [
    "# lambda\n",
    "# anonim, hızlı bir fonksiyon yazmak için kullanılır."
   ]
  },
  {
   "cell_type": "code",
   "execution_count": 35,
   "id": "17a0ed1c",
   "metadata": {},
   "outputs": [],
   "source": [
    "multiply_lambda = lambda num : num * 3"
   ]
  },
  {
   "cell_type": "code",
   "execution_count": 37,
   "id": "24aaa58d",
   "metadata": {},
   "outputs": [
    {
     "data": {
      "text/plain": [
       "180"
      ]
     },
     "execution_count": 37,
     "metadata": {},
     "output_type": "execute_result"
    }
   ],
   "source": [
    "multiply_lambda(60)"
   ]
  },
  {
   "cell_type": "code",
   "execution_count": 38,
   "id": "659f0a85",
   "metadata": {},
   "outputs": [],
   "source": [
    "num_list = [10,20,30,40,50]"
   ]
  },
  {
   "cell_type": "code",
   "execution_count": 39,
   "id": "3168ef03",
   "metadata": {},
   "outputs": [
    {
     "data": {
      "text/plain": [
       "[2.5, 5.0, 7.5, 10.0, 12.5]"
      ]
     },
     "execution_count": 39,
     "metadata": {},
     "output_type": "execute_result"
    }
   ],
   "source": [
    "list(map(lambda i: i/4,num_list))"
   ]
  },
  {
   "cell_type": "code",
   "execution_count": 44,
   "id": "0e4d36c7",
   "metadata": {},
   "outputs": [
    {
     "data": {
      "text/plain": [
       "\"Yukarıdaki kodun açıklaması:\\nÖnce map ile, liste ve listeye uygulamak istenilen fonksiyon için yer ayarlıyoruz.\\nSonrasında lambda ile, bir sayıyı 4'e bölebilen anonim bir fonksiyon yazıyoruz.\\n\\n\""
      ]
     },
     "execution_count": 44,
     "metadata": {},
     "output_type": "execute_result"
    }
   ],
   "source": [
    "\"\"\"Yukarıdaki kodun açıklaması:\n",
    "Önce map ile, liste ve listeye uygulamak istenilen fonksiyon için yer ayarlıyoruz.\n",
    "Sonrasında lambda ile, bir sayıyı 4'e bölebilen anonim bir fonksiyon yazıyoruz.\n",
    "\n",
    "\"\"\""
   ]
  },
  {
   "cell_type": "code",
   "execution_count": 45,
   "id": "b03ace7f",
   "metadata": {},
   "outputs": [],
   "source": [
    "#scope"
   ]
  },
  {
   "cell_type": "code",
   "execution_count": 46,
   "id": "a7301284",
   "metadata": {},
   "outputs": [],
   "source": [
    "x = 20\n",
    "\n",
    "def multiply(num):\n",
    "    x = 5\n",
    "    return num*x "
   ]
  },
  {
   "cell_type": "code",
   "execution_count": 47,
   "id": "559abe69",
   "metadata": {},
   "outputs": [
    {
     "data": {
      "text/plain": [
       "25"
      ]
     },
     "execution_count": 47,
     "metadata": {},
     "output_type": "execute_result"
    }
   ],
   "source": [
    "multiply(5)"
   ]
  },
  {
   "cell_type": "code",
   "execution_count": 48,
   "id": "c87cc725",
   "metadata": {},
   "outputs": [],
   "source": [
    "# LEGB -> Local Enclosing Global Built-In"
   ]
  },
  {
   "cell_type": "code",
   "execution_count": 57,
   "id": "c4508e2a",
   "metadata": {},
   "outputs": [],
   "source": [
    "my_string = \"Fatih\" #Global"
   ]
  },
  {
   "cell_type": "code",
   "execution_count": 58,
   "id": "5c504685",
   "metadata": {},
   "outputs": [],
   "source": [
    "def my_func():\n",
    "    #Enclosing\n",
    "    my_string = \"Tito\"\n",
    "    def my_func2():\n",
    "        # Local\n",
    "        my_string = \"Tuğçe\"\n",
    "        print(my_string)\n",
    "    \n",
    "    my_func2()"
   ]
  },
  {
   "cell_type": "code",
   "execution_count": 59,
   "id": "402dc968",
   "metadata": {},
   "outputs": [
    {
     "data": {
      "text/plain": [
       "'Fatih'"
      ]
     },
     "execution_count": 59,
     "metadata": {},
     "output_type": "execute_result"
    }
   ],
   "source": [
    "my_string"
   ]
  },
  {
   "cell_type": "raw",
   "id": "3e827255",
   "metadata": {},
   "source": [
    "my_func()"
   ]
  },
  {
   "cell_type": "code",
   "execution_count": 60,
   "id": "03e6cd50",
   "metadata": {},
   "outputs": [],
   "source": [
    "y = 10\n",
    "\n",
    "def change_y():\n",
    "    global y\n",
    "    y = 5\n",
    "    print(y)"
   ]
  },
  {
   "cell_type": "code",
   "execution_count": 61,
   "id": "e16dfc96",
   "metadata": {},
   "outputs": [
    {
     "data": {
      "text/plain": [
       "10"
      ]
     },
     "execution_count": 61,
     "metadata": {},
     "output_type": "execute_result"
    }
   ],
   "source": [
    "y"
   ]
  },
  {
   "cell_type": "code",
   "execution_count": 62,
   "id": "0ecd538f",
   "metadata": {},
   "outputs": [
    {
     "name": "stdout",
     "output_type": "stream",
     "text": [
      "5\n"
     ]
    }
   ],
   "source": [
    "change_y()"
   ]
  },
  {
   "cell_type": "code",
   "execution_count": 63,
   "id": "88109a76",
   "metadata": {},
   "outputs": [
    {
     "data": {
      "text/plain": [
       "5"
      ]
     },
     "execution_count": 63,
     "metadata": {},
     "output_type": "execute_result"
    }
   ],
   "source": [
    "y"
   ]
  },
  {
   "cell_type": "code",
   "execution_count": 64,
   "id": "5b6ee4f7",
   "metadata": {},
   "outputs": [],
   "source": [
    "# global yazarak, y'nin globaldeki değerini fonksiyonun lokalinden değiştirmiş olduk."
   ]
  }
 ],
 "metadata": {
  "kernelspec": {
   "display_name": "Python 3 (ipykernel)",
   "language": "python",
   "name": "python3"
  },
  "language_info": {
   "codemirror_mode": {
    "name": "ipython",
    "version": 3
   },
   "file_extension": ".py",
   "mimetype": "text/x-python",
   "name": "python",
   "nbconvert_exporter": "python",
   "pygments_lexer": "ipython3",
   "version": "3.9.7"
  }
 },
 "nbformat": 4,
 "nbformat_minor": 5
}
