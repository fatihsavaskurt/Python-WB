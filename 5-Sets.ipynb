{
 "cells": [
  {
   "cell_type": "markdown",
   "id": "248b167e",
   "metadata": {},
   "source": [
    "### Sets"
   ]
  },
  {
   "cell_type": "markdown",
   "id": "8036dc7c",
   "metadata": {},
   "source": [
    "--Unique elemanları ve sırasız şekilde tutar.\n",
    "\n",
    "--İndeks mantığı yok, yani ilk elemanı vs. alamıyoruz.\n",
    "\n",
    "--Aslında küme mantığı ile benzer şekilde işliyor, metodlar var.\n",
    "\n",
    "--Örneğin bir e-ticaret web sitesi var, ülke listesi var burada. Bu ülke listelerinin tekrar etmemesi için kullanılabilir mesela. "
   ]
  },
  {
   "cell_type": "code",
   "execution_count": 8,
   "id": "eff6c246",
   "metadata": {},
   "outputs": [],
   "source": [
    "my_list = [10,30,20,50,60,90,12,41,31,31,31]"
   ]
  },
  {
   "cell_type": "code",
   "execution_count": 9,
   "id": "860b5723",
   "metadata": {},
   "outputs": [
    {
     "data": {
      "text/plain": [
       "11"
      ]
     },
     "execution_count": 9,
     "metadata": {},
     "output_type": "execute_result"
    }
   ],
   "source": [
    "len(my_list)"
   ]
  },
  {
   "cell_type": "code",
   "execution_count": 11,
   "id": "9ff27595",
   "metadata": {},
   "outputs": [
    {
     "data": {
      "text/plain": [
       "[10, 30, 20, 50, 60, 90, 12, 41, 31, 31, 31]"
      ]
     },
     "execution_count": 11,
     "metadata": {},
     "output_type": "execute_result"
    }
   ],
   "source": [
    "my_list"
   ]
  },
  {
   "cell_type": "code",
   "execution_count": 12,
   "id": "f03f7e28",
   "metadata": {},
   "outputs": [],
   "source": [
    "my_set = set(my_list)"
   ]
  },
  {
   "cell_type": "code",
   "execution_count": 13,
   "id": "4527f9b1",
   "metadata": {},
   "outputs": [
    {
     "data": {
      "text/plain": [
       "{10, 12, 20, 30, 31, 41, 50, 60, 90}"
      ]
     },
     "execution_count": 13,
     "metadata": {},
     "output_type": "execute_result"
    }
   ],
   "source": [
    "my_set"
   ]
  },
  {
   "cell_type": "code",
   "execution_count": 14,
   "id": "6a9ed6d7",
   "metadata": {},
   "outputs": [
    {
     "data": {
      "text/plain": [
       "9"
      ]
     },
     "execution_count": 14,
     "metadata": {},
     "output_type": "execute_result"
    }
   ],
   "source": [
    "len(my_set)"
   ]
  },
  {
   "cell_type": "code",
   "execution_count": 20,
   "id": "3ca34297",
   "metadata": {},
   "outputs": [],
   "source": [
    "my_set_test = {10,20,3040,50,40,50,10,20,50}"
   ]
  },
  {
   "cell_type": "code",
   "execution_count": 21,
   "id": "c731feae",
   "metadata": {},
   "outputs": [
    {
     "data": {
      "text/plain": [
       "{10, 20, 40, 50, 3040}"
      ]
     },
     "execution_count": 21,
     "metadata": {},
     "output_type": "execute_result"
    }
   ],
   "source": [
    "my_set_test"
   ]
  },
  {
   "cell_type": "code",
   "execution_count": 22,
   "id": "2e665902",
   "metadata": {},
   "outputs": [],
   "source": [
    "my_county = [\"de\",\"tr\",\"tr\",\"tr\",\"fe\",\"de\",\"eu\",\"ab\",\"usa\",\"yugo\"]"
   ]
  },
  {
   "cell_type": "code",
   "execution_count": 24,
   "id": "f27233fc",
   "metadata": {},
   "outputs": [
    {
     "data": {
      "text/plain": [
       "7"
      ]
     },
     "execution_count": 24,
     "metadata": {},
     "output_type": "execute_result"
    }
   ],
   "source": [
    "len(set(my_county))"
   ]
  },
  {
   "cell_type": "code",
   "execution_count": 25,
   "id": "fcece3b0",
   "metadata": {},
   "outputs": [],
   "source": [
    "empty_set = set()"
   ]
  },
  {
   "cell_type": "code",
   "execution_count": 29,
   "id": "0306a165",
   "metadata": {},
   "outputs": [
    {
     "data": {
      "text/plain": [
       "set"
      ]
     },
     "execution_count": 29,
     "metadata": {},
     "output_type": "execute_result"
    }
   ],
   "source": [
    "type(empty_set)"
   ]
  },
  {
   "cell_type": "code",
   "execution_count": 32,
   "id": "65d2b703",
   "metadata": {},
   "outputs": [],
   "source": [
    "empty_set.clear()"
   ]
  },
  {
   "cell_type": "code",
   "execution_count": 34,
   "id": "9f8510e9",
   "metadata": {},
   "outputs": [],
   "source": [
    "empty_set.add(10)\n",
    "empty_set.add(10)\n",
    "empty_set.add(10)\n",
    "empty_set.add(30)\n",
    "empty_set.add(40)"
   ]
  },
  {
   "cell_type": "code",
   "execution_count": 35,
   "id": "80f756c9",
   "metadata": {},
   "outputs": [
    {
     "data": {
      "text/plain": [
       "{10, 30, 40}"
      ]
     },
     "execution_count": 35,
     "metadata": {},
     "output_type": "execute_result"
    }
   ],
   "source": [
    "empty_set"
   ]
  },
  {
   "cell_type": "code",
   "execution_count": 36,
   "id": "7446ea44",
   "metadata": {},
   "outputs": [],
   "source": [
    "empty_list = list()"
   ]
  },
  {
   "cell_type": "code",
   "execution_count": 37,
   "id": "fae76d63",
   "metadata": {},
   "outputs": [
    {
     "data": {
      "text/plain": [
       "list"
      ]
     },
     "execution_count": 37,
     "metadata": {},
     "output_type": "execute_result"
    }
   ],
   "source": [
    "type(empty_list)"
   ]
  },
  {
   "cell_type": "code",
   "execution_count": 48,
   "id": "3494ffc8",
   "metadata": {},
   "outputs": [],
   "source": [
    "empty_list.append(10)\n",
    "empty_list.append(20)\n",
    "empty_list.append(30)\n",
    "empty_list.append(40)\n",
    "empty_list.append([10,20])"
   ]
  },
  {
   "cell_type": "code",
   "execution_count": 49,
   "id": "b7162c07",
   "metadata": {},
   "outputs": [
    {
     "data": {
      "text/plain": [
       "[10, 20, 30, 40, [10, 20]]"
      ]
     },
     "execution_count": 49,
     "metadata": {},
     "output_type": "execute_result"
    }
   ],
   "source": [
    "empty_list"
   ]
  },
  {
   "cell_type": "code",
   "execution_count": 50,
   "id": "205a1281",
   "metadata": {},
   "outputs": [],
   "source": [
    "empty_dict = dict()"
   ]
  },
  {
   "cell_type": "code",
   "execution_count": 51,
   "id": "33a6a889",
   "metadata": {},
   "outputs": [
    {
     "data": {
      "text/plain": [
       "dict"
      ]
     },
     "execution_count": 51,
     "metadata": {},
     "output_type": "execute_result"
    }
   ],
   "source": [
    "type(empty_dict)"
   ]
  },
  {
   "cell_type": "code",
   "execution_count": 56,
   "id": "bd7df7b9",
   "metadata": {},
   "outputs": [],
   "source": [
    "empty_dict[\"a\"] = 10\n",
    "empty_dict[\"b\"] = 50\n",
    "empty_dict[\"c\"] = empty_list"
   ]
  },
  {
   "cell_type": "code",
   "execution_count": 57,
   "id": "a8e5e201",
   "metadata": {},
   "outputs": [
    {
     "data": {
      "text/plain": [
       "{'a': 10, 'b': 50, 'c': [10, 20, 30, 40, [10, 20]]}"
      ]
     },
     "execution_count": 57,
     "metadata": {},
     "output_type": "execute_result"
    }
   ],
   "source": [
    "empty_dict"
   ]
  },
  {
   "cell_type": "code",
   "execution_count": 66,
   "id": "985af971",
   "metadata": {},
   "outputs": [
    {
     "data": {
      "text/plain": [
       "20"
      ]
     },
     "execution_count": 66,
     "metadata": {},
     "output_type": "execute_result"
    }
   ],
   "source": [
    "empty_dict[\"c\"][4][1]"
   ]
  }
 ],
 "metadata": {
  "kernelspec": {
   "display_name": "Python 3 (ipykernel)",
   "language": "python",
   "name": "python3"
  },
  "language_info": {
   "codemirror_mode": {
    "name": "ipython",
    "version": 3
   },
   "file_extension": ".py",
   "mimetype": "text/x-python",
   "name": "python",
   "nbconvert_exporter": "python",
   "pygments_lexer": "ipython3",
   "version": "3.9.7"
  }
 },
 "nbformat": 4,
 "nbformat_minor": 5
}
