{
 "cells": [
  {
   "cell_type": "code",
   "execution_count": null,
   "id": "a1ff39cb",
   "metadata": {},
   "outputs": [],
   "source": [
    "## 🔁 Python'da OOP'nin Temel Kavramları: Kalıtım, Kapsülleme, Çok Biçimlilik\n",
    "\n",
    "---\n",
    "\n",
    "### 🔹 1. Inheritance (Kalıtım)\n",
    "\n",
    "Bir sınıfın başka bir sınıftan özellik ve metotları **miras alması**dır. Kod tekrarını azaltır.\n",
    "\n",
    "```python\n",
    "class Hayvan:\n",
    "    def __init__(self, isim):\n",
    "        self.isim = isim\n",
    "\n",
    "    def ses_cikar(self):\n",
    "        print(\"Bir ses çıkarıyor...\")\n",
    "\n",
    "class Kedi(Hayvan):\n",
    "    def ses_cikar(self):\n",
    "        print(\"Miyav!\")\n",
    "\n",
    "class Kopek(Hayvan):\n",
    "    def ses_cikar(self):\n",
    "        print(\"Hav hav!\")\n",
    "\n",
    "kedi = Kedi(\"Minnak\")\n",
    "kopek = Kopek(\"Karabas\")\n",
    "\n",
    "kedi.ses_cikar()   # Miyav!\n",
    "kopek.ses_cikar()  # Hav hav!\n"
   ]
  }
 ],
 "metadata": {
  "kernelspec": {
   "display_name": "Python 3 (ipykernel)",
   "language": "python",
   "name": "python3"
  },
  "language_info": {
   "codemirror_mode": {
    "name": "ipython",
    "version": 3
   },
   "file_extension": ".py",
   "mimetype": "text/x-python",
   "name": "python",
   "nbconvert_exporter": "python",
   "pygments_lexer": "ipython3",
   "version": "3.9.7"
  }
 },
 "nbformat": 4,
 "nbformat_minor": 5
}
