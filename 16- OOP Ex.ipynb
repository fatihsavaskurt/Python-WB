{
 "cells": [
  {
   "cell_type": "code",
   "execution_count": null,
   "id": "7131103e",
   "metadata": {},
   "outputs": [],
   "source": [
    "## 🔁 Python'da OOP'nin Temel Kavramları: Kalıtım, Kapsülleme, Çok Biçimlilik\n",
    "\n",
    "---\n",
    "\n",
    "### 🔹 1. Inheritance (Kalıtım)\n",
    "\n",
    "Bir sınıfın başka bir sınıftan özellik ve metotları **miras alması**dır. Kod tekrarını azaltır.\n",
    "\n",
    "```python\n",
    "class Hayvan:\n",
    "    def __init__(self, isim):\n",
    "        self.isim = isim\n",
    "\n",
    "    def ses_cikar(self):\n",
    "        print(\"Bir ses çıkarıyor...\")\n",
    "\n",
    "class Kedi(Hayvan):\n",
    "    def ses_cikar(self):\n",
    "        print(\"Miyav!\")\n",
    "\n",
    "class Kopek(Hayvan):\n",
    "    def ses_cikar(self):\n",
    "        print(\"Hav hav!\")\n",
    "\n",
    "kedi = Kedi(\"Minnak\")\n",
    "kopek = Kopek(\"Karabas\")\n",
    "\n",
    "kedi.ses_cikar()   # Miyav!\n",
    "kopek.ses_cikar()  # Hav hav!\n"
   ]
  },
  {
   "cell_type": "code",
   "execution_count": 20,
   "id": "80390ee9",
   "metadata": {},
   "outputs": [],
   "source": [
    "## Inheritance: DYR(Dont your repeat), kod tekrarını önlemek için yapılıyor."
   ]
  },
  {
   "cell_type": "code",
   "execution_count": 2,
   "id": "962bfb2c",
   "metadata": {},
   "outputs": [],
   "source": [
    "class Musician():\n",
    "    def __init__(self,name):\n",
    "        self.name = name\n",
    "        print(\"musician class\")\n",
    "        \n",
    "    def test1(self):\n",
    "        print(\"test1\")\n",
    "        \n",
    "    def test2(self):\n",
    "        print(\"test2\")\n",
    "    "
   ]
  },
  {
   "cell_type": "code",
   "execution_count": 5,
   "id": "9c1b0174",
   "metadata": {},
   "outputs": [
    {
     "name": "stdout",
     "output_type": "stream",
     "text": [
      "musician class\n"
     ]
    }
   ],
   "source": [
    "fatih = Musician(\"Fatih\")"
   ]
  },
  {
   "cell_type": "code",
   "execution_count": 11,
   "id": "44b4e17d",
   "metadata": {},
   "outputs": [
    {
     "data": {
      "text/plain": [
       "'Fatih'"
      ]
     },
     "execution_count": 11,
     "metadata": {},
     "output_type": "execute_result"
    }
   ],
   "source": [
    "fatih.name"
   ]
  },
  {
   "cell_type": "code",
   "execution_count": 9,
   "id": "119b5b25",
   "metadata": {},
   "outputs": [
    {
     "name": "stdout",
     "output_type": "stream",
     "text": [
      "test1\n"
     ]
    }
   ],
   "source": [
    "fatih.test1()"
   ]
  },
  {
   "cell_type": "code",
   "execution_count": 16,
   "id": "6c40f970",
   "metadata": {},
   "outputs": [],
   "source": [
    "class MusicianPlus(Musician):\n",
    "    \n",
    "    def __init__(self,name):\n",
    "        Musician.__init__(self,name)\n",
    "        print(\"musician plus\")"
   ]
  },
  {
   "cell_type": "code",
   "execution_count": 18,
   "id": "f0d864da",
   "metadata": {},
   "outputs": [
    {
     "name": "stdout",
     "output_type": "stream",
     "text": [
      "musician class\n",
      "musician plus\n"
     ]
    }
   ],
   "source": [
    "tito = MusicianPlus(\"Tito\")"
   ]
  },
  {
   "cell_type": "code",
   "execution_count": 21,
   "id": "556bd729",
   "metadata": {},
   "outputs": [],
   "source": [
    "#Polymorphism: Aynı isimle farklı işi yapmak."
   ]
  },
  {
   "cell_type": "code",
   "execution_count": 35,
   "id": "afd034fe",
   "metadata": {},
   "outputs": [],
   "source": [
    "class Banana():\n",
    "    def __init__(self,name):\n",
    "        self.name = name\n",
    "        \n",
    "    def info(self):\n",
    "        return f\"100 calories {self.name}\"\n",
    "        \n",
    "class Apple():\n",
    "    def __init__(self,name):\n",
    "        self.name = name\n",
    "        \n",
    "    def info(self):\n",
    "        return f\"150 calories {self.name}\""
   ]
  },
  {
   "cell_type": "code",
   "execution_count": 36,
   "id": "d7ef87fb",
   "metadata": {},
   "outputs": [],
   "source": [
    "banana = Banana(\"banana\")"
   ]
  },
  {
   "cell_type": "code",
   "execution_count": 37,
   "id": "b6dc527e",
   "metadata": {},
   "outputs": [],
   "source": [
    "apple = Apple(\"apple\")"
   ]
  },
  {
   "cell_type": "code",
   "execution_count": 38,
   "id": "e44afdf3",
   "metadata": {},
   "outputs": [
    {
     "data": {
      "text/plain": [
       "'100 calories banana'"
      ]
     },
     "execution_count": 38,
     "metadata": {},
     "output_type": "execute_result"
    }
   ],
   "source": [
    "banana.info()"
   ]
  },
  {
   "cell_type": "code",
   "execution_count": 43,
   "id": "0ac478cc",
   "metadata": {},
   "outputs": [],
   "source": [
    "fruitList = [banana,apple]"
   ]
  },
  {
   "cell_type": "code",
   "execution_count": 44,
   "id": "b9dde63f",
   "metadata": {},
   "outputs": [
    {
     "name": "stdout",
     "output_type": "stream",
     "text": [
      "100 calories banana\n",
      "150 calories apple\n"
     ]
    }
   ],
   "source": [
    "for fruit in fruitList:\n",
    "    print(fruit.info())"
   ]
  },
  {
   "cell_type": "code",
   "execution_count": 53,
   "id": "2d7ab633",
   "metadata": {},
   "outputs": [],
   "source": [
    "# encapsulation: veriyi gizleme, değiştirilmesini engelleme"
   ]
  },
  {
   "cell_type": "code",
   "execution_count": 96,
   "id": "2cfc7462",
   "metadata": {},
   "outputs": [],
   "source": [
    "class Phone():\n",
    "    \n",
    "    def __init__(self, name, price):\n",
    "        self.name = name\n",
    "        self.__price = price ##değiştirilmesini engelleme çift alt çizgi ile\n",
    "        \n",
    "    def info(self):\n",
    "        print(f\"{self.name} price is {self.__price}\")\n",
    "        \n",
    "    def changePrice(self, price):\n",
    "        self.__price = price"
   ]
  },
  {
   "cell_type": "code",
   "execution_count": 97,
   "id": "668cee70",
   "metadata": {},
   "outputs": [],
   "source": [
    "iphone = Phone(\"iPhone 14\", 500)"
   ]
  },
  {
   "cell_type": "code",
   "execution_count": 98,
   "id": "a70301e6",
   "metadata": {},
   "outputs": [
    {
     "name": "stdout",
     "output_type": "stream",
     "text": [
      "iPhone 14 price is 500\n"
     ]
    }
   ],
   "source": [
    "iphone.info()"
   ]
  },
  {
   "cell_type": "code",
   "execution_count": 99,
   "id": "f780b869",
   "metadata": {},
   "outputs": [],
   "source": [
    "iphone.changePrice(150)"
   ]
  },
  {
   "cell_type": "code",
   "execution_count": 100,
   "id": "e19a6af2",
   "metadata": {},
   "outputs": [
    {
     "name": "stdout",
     "output_type": "stream",
     "text": [
      "iPhone 14 price is 150\n"
     ]
    }
   ],
   "source": [
    "iphone.info()"
   ]
  },
  {
   "cell_type": "code",
   "execution_count": 102,
   "id": "b3fae458",
   "metadata": {},
   "outputs": [],
   "source": [
    "#abstraction: soyut bir sınıf oluşturmak"
   ]
  },
  {
   "cell_type": "code",
   "execution_count": 103,
   "id": "27554080",
   "metadata": {},
   "outputs": [],
   "source": [
    "from abc import ABC, abstractmethod"
   ]
  },
  {
   "cell_type": "code",
   "execution_count": 113,
   "id": "34842a46",
   "metadata": {},
   "outputs": [],
   "source": [
    "class Car(ABC):\n",
    "    \n",
    "    @abstractmethod\n",
    "    def maxSpeed(self):\n",
    "        pass"
   ]
  },
  {
   "cell_type": "code",
   "execution_count": 106,
   "id": "a64d9f8d",
   "metadata": {},
   "outputs": [],
   "source": [
    "# myCar = Car()"
   ]
  },
  {
   "cell_type": "code",
   "execution_count": 114,
   "id": "1b932be2",
   "metadata": {},
   "outputs": [],
   "source": [
    "class Tesla(Car):\n",
    "\n",
    "    def maxSpeed(self):\n",
    "        print(\"200 km\")"
   ]
  },
  {
   "cell_type": "code",
   "execution_count": 115,
   "id": "0c005054",
   "metadata": {},
   "outputs": [],
   "source": [
    "tesla = Tesla()"
   ]
  },
  {
   "cell_type": "code",
   "execution_count": 116,
   "id": "a202c37c",
   "metadata": {},
   "outputs": [
    {
     "name": "stdout",
     "output_type": "stream",
     "text": [
      "200 km\n"
     ]
    }
   ],
   "source": [
    "tesla.maxSpeed()"
   ]
  },
  {
   "cell_type": "code",
   "execution_count": 117,
   "id": "48278522",
   "metadata": {},
   "outputs": [],
   "source": [
    "class Mercedes(Car):\n",
    "    \n",
    "    def maxSpeed(self):\n",
    "        print(\"250km\")"
   ]
  },
  {
   "cell_type": "code",
   "execution_count": 136,
   "id": "0bc648e7",
   "metadata": {},
   "outputs": [],
   "source": [
    "class Fruit():\n",
    "    \n",
    "    def __init__(self, name, calories):\n",
    "        self.name = name\n",
    "        self.calories = calories\n",
    "        \n",
    "    def __str__(self):\n",
    "        return f\"{self.name}: {self.calories} calories\"\n",
    "    \n",
    "    def __len__(self):\n",
    "        return self.calories"
   ]
  },
  {
   "cell_type": "code",
   "execution_count": 137,
   "id": "ade6b03f",
   "metadata": {},
   "outputs": [],
   "source": [
    "myFruit = Fruit(\"banana\",150)"
   ]
  },
  {
   "cell_type": "code",
   "execution_count": 138,
   "id": "2b76c153",
   "metadata": {},
   "outputs": [
    {
     "data": {
      "text/plain": [
       "150"
      ]
     },
     "execution_count": 138,
     "metadata": {},
     "output_type": "execute_result"
    }
   ],
   "source": [
    "myFruit.calories"
   ]
  },
  {
   "cell_type": "code",
   "execution_count": 139,
   "id": "9885ca83",
   "metadata": {},
   "outputs": [
    {
     "data": {
      "text/plain": [
       "'banana'"
      ]
     },
     "execution_count": 139,
     "metadata": {},
     "output_type": "execute_result"
    }
   ],
   "source": [
    "myFruit.name"
   ]
  },
  {
   "cell_type": "code",
   "execution_count": 140,
   "id": "6ea2c2b1",
   "metadata": {},
   "outputs": [
    {
     "name": "stdout",
     "output_type": "stream",
     "text": [
      "banana: 150 calories\n"
     ]
    }
   ],
   "source": [
    "print(myFruit)"
   ]
  },
  {
   "cell_type": "code",
   "execution_count": 141,
   "id": "6c92011e",
   "metadata": {},
   "outputs": [
    {
     "name": "stdout",
     "output_type": "stream",
     "text": [
      "150\n"
     ]
    }
   ],
   "source": [
    "print(len(myFruit))"
   ]
  }
 ],
 "metadata": {
  "kernelspec": {
   "display_name": "Python 3 (ipykernel)",
   "language": "python",
   "name": "python3"
  },
  "language_info": {
   "codemirror_mode": {
    "name": "ipython",
    "version": 3
   },
   "file_extension": ".py",
   "mimetype": "text/x-python",
   "name": "python",
   "nbconvert_exporter": "python",
   "pygments_lexer": "ipython3",
   "version": "3.9.7"
  }
 },
 "nbformat": 4,
 "nbformat_minor": 5
}
