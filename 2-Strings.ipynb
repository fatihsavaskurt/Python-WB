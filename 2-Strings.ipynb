{
 "cells": [
  {
   "cell_type": "code",
   "execution_count": 28,
   "id": "0823e7ea",
   "metadata": {},
   "outputs": [],
   "source": [
    "name = \"fatih esad savaşkurt\""
   ]
  },
  {
   "cell_type": "code",
   "execution_count": 9,
   "id": "9f188e96",
   "metadata": {},
   "outputs": [
    {
     "data": {
      "text/plain": [
       "str"
      ]
     },
     "execution_count": 9,
     "metadata": {},
     "output_type": "execute_result"
    }
   ],
   "source": [
    "type(name)"
   ]
  },
  {
   "cell_type": "code",
   "execution_count": 14,
   "id": "4a621e2f",
   "metadata": {},
   "outputs": [],
   "source": [
    "capital_name = name.capitalize()"
   ]
  },
  {
   "cell_type": "code",
   "execution_count": 15,
   "id": "4128fe10",
   "metadata": {},
   "outputs": [
    {
     "data": {
      "text/plain": [
       "'Fatih esad savaşkurt'"
      ]
     },
     "execution_count": 15,
     "metadata": {},
     "output_type": "execute_result"
    }
   ],
   "source": [
    "capital_name"
   ]
  },
  {
   "cell_type": "markdown",
   "id": "3cbbd3a3",
   "metadata": {},
   "source": [
    "--İlgili type ile alakalı fonksiyonları görüntüleyebilmek için, variables_değeri. yazdıktan sonra, o değişkenin yapabildiği özellikleri görüntüleyebiliyoruz."
   ]
  },
  {
   "cell_type": "code",
   "execution_count": 32,
   "id": "12f7ae53",
   "metadata": {},
   "outputs": [
    {
     "name": "stdout",
     "output_type": "stream",
     "text": [
      "Help on built-in function count:\n",
      "\n",
      "count(...) method of builtins.str instance\n",
      "    S.count(sub[, start[, end]]) -> int\n",
      "    \n",
      "    Return the number of non-overlapping occurrences of substring sub in\n",
      "    string S[start:end].  Optional arguments start and end are\n",
      "    interpreted as in slice notation.\n",
      "\n"
     ]
    }
   ],
   "source": [
    "help(name.count)"
   ]
  },
  {
   "cell_type": "code",
   "execution_count": 33,
   "id": "30523060",
   "metadata": {},
   "outputs": [
    {
     "data": {
      "text/plain": [
       "2"
      ]
     },
     "execution_count": 33,
     "metadata": {},
     "output_type": "execute_result"
    }
   ],
   "source": [
    "name.count(\"s\")"
   ]
  },
  {
   "cell_type": "code",
   "execution_count": 38,
   "id": "96a39a5f",
   "metadata": {},
   "outputs": [
    {
     "name": "stdout",
     "output_type": "stream",
     "text": [
      "Help on built-in function find:\n",
      "\n",
      "find(...) method of builtins.str instance\n",
      "    S.find(sub[, start[, end]]) -> int\n",
      "    \n",
      "    Return the lowest index in S where substring sub is found,\n",
      "    such that sub is contained within S[start:end].  Optional\n",
      "    arguments start and end are interpreted as in slice notation.\n",
      "    \n",
      "    Return -1 on failure.\n",
      "\n"
     ]
    }
   ],
   "source": [
    "help(name.find)"
   ]
  },
  {
   "cell_type": "code",
   "execution_count": 41,
   "id": "1de0868e",
   "metadata": {},
   "outputs": [
    {
     "data": {
      "text/plain": [
       "0"
      ]
     },
     "execution_count": 41,
     "metadata": {},
     "output_type": "execute_result"
    }
   ],
   "source": [
    "name.find('f') #f harfinin kaçıncı indexte olduğunu döndürüyor."
   ]
  },
  {
   "cell_type": "code",
   "execution_count": 42,
   "id": "6cedfb46",
   "metadata": {},
   "outputs": [
    {
     "name": "stdout",
     "output_type": "stream",
     "text": [
      "Help on built-in function casefold:\n",
      "\n",
      "casefold() method of builtins.str instance\n",
      "    Return a version of the string suitable for caseless comparisons.\n",
      "\n"
     ]
    }
   ],
   "source": [
    "help(name.casefold)"
   ]
  },
  {
   "cell_type": "code",
   "execution_count": 43,
   "id": "12610c6e",
   "metadata": {},
   "outputs": [
    {
     "name": "stdout",
     "output_type": "stream",
     "text": [
      "Help on built-in function replace:\n",
      "\n",
      "replace(old, new, count=-1, /) method of builtins.str instance\n",
      "    Return a copy with all occurrences of substring old replaced by new.\n",
      "    \n",
      "      count\n",
      "        Maximum number of occurrences to replace.\n",
      "        -1 (the default value) means replace all occurrences.\n",
      "    \n",
      "    If the optional argument count is given, only the first count occurrences are\n",
      "    replaced.\n",
      "\n"
     ]
    }
   ],
   "source": [
    "help(name.replace)"
   ]
  },
  {
   "cell_type": "code",
   "execution_count": 48,
   "id": "1b1cf333",
   "metadata": {},
   "outputs": [
    {
     "data": {
      "text/plain": [
       "'fatih  savaşkurt'"
      ]
     },
     "execution_count": 48,
     "metadata": {},
     "output_type": "execute_result"
    }
   ],
   "source": [
    "name.replace(\"esad\", \"\")"
   ]
  },
  {
   "cell_type": "code",
   "execution_count": 50,
   "id": "030f0fac",
   "metadata": {},
   "outputs": [
    {
     "data": {
      "text/plain": [
       "'FATIH ESAD SAVAŞKURT'"
      ]
     },
     "execution_count": 50,
     "metadata": {},
     "output_type": "execute_result"
    }
   ],
   "source": [
    "name.upper()"
   ]
  },
  {
   "cell_type": "code",
   "execution_count": 60,
   "id": "f6529057",
   "metadata": {},
   "outputs": [
    {
     "name": "stdout",
     "output_type": "stream",
     "text": [
      "fatih \n",
      "esad \n",
      "savaşkurt\n"
     ]
    }
   ],
   "source": [
    "print(\"fatih \\nesad \\nsavaşkurt\") #\\n yeni satıra geç anlamına geliyor. new yani. escape characters deniyor bunlara."
   ]
  },
  {
   "cell_type": "markdown",
   "id": "0ab91664",
   "metadata": {},
   "source": [
    "# İndex"
   ]
  },
  {
   "cell_type": "code",
   "execution_count": 63,
   "id": "3109562b",
   "metadata": {},
   "outputs": [],
   "source": [
    "my_string = \"hello python\""
   ]
  },
  {
   "cell_type": "code",
   "execution_count": 70,
   "id": "8442627e",
   "metadata": {},
   "outputs": [
    {
     "data": {
      "text/plain": [
       "'e'"
      ]
     },
     "execution_count": 70,
     "metadata": {},
     "output_type": "execute_result"
    }
   ],
   "source": [
    "my_string[1] #indexler sıfırdan başlıyor, dolayısıyla 0'ı getirdiğimizde 'h' harfi gelecek."
   ]
  },
  {
   "cell_type": "code",
   "execution_count": 72,
   "id": "13db3ac0",
   "metadata": {},
   "outputs": [
    {
     "data": {
      "text/plain": [
       "'h'"
      ]
     },
     "execution_count": 72,
     "metadata": {},
     "output_type": "execute_result"
    }
   ],
   "source": [
    "my_string[0]"
   ]
  },
  {
   "cell_type": "code",
   "execution_count": 78,
   "id": "b5614b7b",
   "metadata": {},
   "outputs": [
    {
     "data": {
      "text/plain": [
       "'hello'"
      ]
     },
     "execution_count": 78,
     "metadata": {},
     "output_type": "execute_result"
    }
   ],
   "source": [
    "my_string[:5]"
   ]
  },
  {
   "cell_type": "code",
   "execution_count": 80,
   "id": "914181f5",
   "metadata": {},
   "outputs": [
    {
     "data": {
      "text/plain": [
       "11"
      ]
     },
     "execution_count": 80,
     "metadata": {},
     "output_type": "execute_result"
    }
   ],
   "source": [
    "len(my_string) -1"
   ]
  },
  {
   "cell_type": "code",
   "execution_count": 81,
   "id": "7577562a",
   "metadata": {},
   "outputs": [
    {
     "data": {
      "text/plain": [
       "'n'"
      ]
     },
     "execution_count": 81,
     "metadata": {},
     "output_type": "execute_result"
    }
   ],
   "source": [
    "my_string[11]"
   ]
  },
  {
   "cell_type": "code",
   "execution_count": 83,
   "id": "2cdbbb7e",
   "metadata": {},
   "outputs": [],
   "source": [
    "my_name = \"fatih esad savaşkurt\""
   ]
  },
  {
   "cell_type": "code",
   "execution_count": 103,
   "id": "61738ca2",
   "metadata": {},
   "outputs": [
    {
     "data": {
      "text/plain": [
       "19"
      ]
     },
     "execution_count": 103,
     "metadata": {},
     "output_type": "execute_result"
    }
   ],
   "source": [
    "len(my_name) -1 #ilgili kelimenin son harfini getirmiş oluyoruz."
   ]
  },
  {
   "cell_type": "code",
   "execution_count": 107,
   "id": "56e80885",
   "metadata": {},
   "outputs": [
    {
     "data": {
      "text/plain": [
       "['fatih', 'esad', 'savaşkurt']"
      ]
     },
     "execution_count": 107,
     "metadata": {},
     "output_type": "execute_result"
    }
   ],
   "source": [
    "my_name.split() #böylelikle adı, boşluklara göre bir listeye ayırdı. artık ilgili listenin indeks uzunluğu 3."
   ]
  },
  {
   "cell_type": "code",
   "execution_count": 99,
   "id": "36a7e4c4",
   "metadata": {},
   "outputs": [
    {
     "data": {
      "text/plain": [
       "'esad'"
      ]
     },
     "execution_count": 99,
     "metadata": {},
     "output_type": "execute_result"
    }
   ],
   "source": [
    "my_name.split()[1]"
   ]
  },
  {
   "cell_type": "markdown",
   "id": "7edbfec1",
   "metadata": {},
   "source": [
    "### Slicing"
   ]
  },
  {
   "cell_type": "code",
   "execution_count": 115,
   "id": "04edb833",
   "metadata": {},
   "outputs": [],
   "source": [
    "#slicing, starting index, stopping index, stepping size"
   ]
  },
  {
   "cell_type": "code",
   "execution_count": 117,
   "id": "a14bb394",
   "metadata": {},
   "outputs": [],
   "source": [
    "#barcode[starting index:stopping index:stepping size]\n",
    "\n",
    "#starting index: kaçıncı indexten başlasın, stopping index: kaçıncı indexte dursun, stepping size: kaçar kaçar atlayalım."
   ]
  },
  {
   "cell_type": "code",
   "execution_count": 108,
   "id": "a66799b7",
   "metadata": {},
   "outputs": [],
   "source": [
    "barcode = \"ABCDE123456789\""
   ]
  },
  {
   "cell_type": "code",
   "execution_count": 114,
   "id": "9e579c4b",
   "metadata": {},
   "outputs": [
    {
     "data": {
      "text/plain": [
       "'ABC'"
      ]
     },
     "execution_count": 114,
     "metadata": {},
     "output_type": "execute_result"
    }
   ],
   "source": [
    "barcode[0:3]"
   ]
  },
  {
   "cell_type": "code",
   "execution_count": 122,
   "id": "57eee59f",
   "metadata": {},
   "outputs": [
    {
     "data": {
      "text/plain": [
       "'DE123456789'"
      ]
     },
     "execution_count": 122,
     "metadata": {},
     "output_type": "execute_result"
    }
   ],
   "source": [
    "barcode[3::]"
   ]
  },
  {
   "cell_type": "code",
   "execution_count": 124,
   "id": "1d2cc045",
   "metadata": {},
   "outputs": [
    {
     "data": {
      "text/plain": [
       "'AC'"
      ]
     },
     "execution_count": 124,
     "metadata": {},
     "output_type": "execute_result"
    }
   ],
   "source": [
    "barcode[0:3:2]"
   ]
  },
  {
   "cell_type": "code",
   "execution_count": 135,
   "id": "0f869c98",
   "metadata": {},
   "outputs": [
    {
     "data": {
      "text/plain": [
       "['AC']"
      ]
     },
     "execution_count": 135,
     "metadata": {},
     "output_type": "execute_result"
    }
   ],
   "source": [
    "barcode[0:4:2].split()"
   ]
  }
 ],
 "metadata": {
  "kernelspec": {
   "display_name": "Python 3 (ipykernel)",
   "language": "python",
   "name": "python3"
  },
  "language_info": {
   "codemirror_mode": {
    "name": "ipython",
    "version": 3
   },
   "file_extension": ".py",
   "mimetype": "text/x-python",
   "name": "python",
   "nbconvert_exporter": "python",
   "pygments_lexer": "ipython3",
   "version": "3.9.7"
  }
 },
 "nbformat": 4,
 "nbformat_minor": 5
}
