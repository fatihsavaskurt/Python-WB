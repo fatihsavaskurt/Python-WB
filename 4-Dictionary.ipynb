{
 "cells": [
  {
   "cell_type": "markdown",
   "id": "3214ee18",
   "metadata": {},
   "source": [
    "## Dictionary"
   ]
  },
  {
   "cell_type": "markdown",
   "id": "dd67bcb5",
   "metadata": {},
   "source": [
    "--Bu tip yapılar, sözcük ve anahtar şeklinde tutuluyor. Yani her bir değerin bir karşılığı oluyor.\n",
    "\n",
    "--Süslü parantez kullanılıyor oluşturmak için.\n",
    "\n",
    "--İndeks kavramı burada yer almıyor, örneğin aşağıdaki dictionary'de, önce sözlük adı, sonrasında da istediğim sözcüğü parantez içinde yazdıktan sonra ilgili değerin karşılığı geliyor.\n",
    "\n",
    "--Dictionary'de ilk yazılan anahtar, sonra yazılan değer anlamına geliyor.\n",
    "\n",
    "--Hem anahtar hem değer string olabilir, ikisinden biri string olabilir veya float olabilir. Kısaca farklı veri tipleri içeri koyulabiliyor.\n",
    "\n",
    "--Veri tipinin ne olduğunu, anahtarın değeri belirler. Liste ise, dictionary'nin o kısmının typeı liste, float ise float çıkar."
   ]
  },
  {
   "cell_type": "code",
   "execution_count": 3,
   "id": "a773f948",
   "metadata": {},
   "outputs": [],
   "source": [
    "fitness_dictionary = {\"banana\": 100, \"apple\": 150}"
   ]
  },
  {
   "cell_type": "code",
   "execution_count": 4,
   "id": "a5940d38",
   "metadata": {},
   "outputs": [
    {
     "data": {
      "text/plain": [
       "dict"
      ]
     },
     "execution_count": 4,
     "metadata": {},
     "output_type": "execute_result"
    }
   ],
   "source": [
    "type(fitness_dictionary)"
   ]
  },
  {
   "cell_type": "code",
   "execution_count": 5,
   "id": "4d171e86",
   "metadata": {},
   "outputs": [
    {
     "data": {
      "text/plain": [
       "100"
      ]
     },
     "execution_count": 5,
     "metadata": {},
     "output_type": "execute_result"
    }
   ],
   "source": [
    "fitness_dictionary[\"banana\"]"
   ]
  },
  {
   "cell_type": "code",
   "execution_count": 7,
   "id": "e8298cff",
   "metadata": {},
   "outputs": [
    {
     "data": {
      "text/plain": [
       "dict_keys(['banana', 'apple'])"
      ]
     },
     "execution_count": 7,
     "metadata": {},
     "output_type": "execute_result"
    }
   ],
   "source": [
    "fitness_dictionary.keys() #sadece anahtarları veriyor."
   ]
  },
  {
   "cell_type": "code",
   "execution_count": 9,
   "id": "aafca140",
   "metadata": {},
   "outputs": [
    {
     "data": {
      "text/plain": [
       "dict_values([100, 150])"
      ]
     },
     "execution_count": 9,
     "metadata": {},
     "output_type": "execute_result"
    }
   ],
   "source": [
    "fitness_dictionary.values() #sadece değerleri veriyor."
   ]
  },
  {
   "cell_type": "code",
   "execution_count": 11,
   "id": "35c71be8",
   "metadata": {},
   "outputs": [],
   "source": [
    "fruit_calories = list(fitness_dictionary.values())"
   ]
  },
  {
   "cell_type": "code",
   "execution_count": 21,
   "id": "e0cdff9e",
   "metadata": {},
   "outputs": [
    {
     "data": {
      "text/plain": [
       "175.0"
      ]
     },
     "execution_count": 21,
     "metadata": {},
     "output_type": "execute_result"
    }
   ],
   "source": [
    "fruit_calories[0] + fruit_calories[1] / 2"
   ]
  },
  {
   "cell_type": "code",
   "execution_count": 26,
   "id": "c7af1301",
   "metadata": {},
   "outputs": [],
   "source": [
    "fitness_dictionary[\"banana\"] = 200 #bir değerin sözcüğünü değiştirme"
   ]
  },
  {
   "cell_type": "code",
   "execution_count": 24,
   "id": "c55495a9",
   "metadata": {},
   "outputs": [
    {
     "data": {
      "text/plain": [
       "{'banana': 200, 'apple': 150}"
      ]
     },
     "execution_count": 24,
     "metadata": {},
     "output_type": "execute_result"
    }
   ],
   "source": [
    "fitness_dictionary"
   ]
  },
  {
   "cell_type": "code",
   "execution_count": 25,
   "id": "561550db",
   "metadata": {},
   "outputs": [],
   "source": [
    "fitness_dictionary[\"melon\"] = 300 #yeni değer ekleme"
   ]
  },
  {
   "cell_type": "code",
   "execution_count": 27,
   "id": "e8eca984",
   "metadata": {},
   "outputs": [
    {
     "data": {
      "text/plain": [
       "150"
      ]
     },
     "execution_count": 27,
     "metadata": {},
     "output_type": "execute_result"
    }
   ],
   "source": [
    "fitness_dictionary.get(\"apple\",0)"
   ]
  },
  {
   "cell_type": "code",
   "execution_count": 28,
   "id": "6547e4a2",
   "metadata": {},
   "outputs": [],
   "source": [
    "my_mixed_dictionary = {\"key1\": 100, \"key2\": 3.145, \"key3\": [1,2,3]}"
   ]
  },
  {
   "cell_type": "code",
   "execution_count": 40,
   "id": "5c524e10",
   "metadata": {},
   "outputs": [
    {
     "data": {
      "text/plain": [
       "3"
      ]
     },
     "execution_count": 40,
     "metadata": {},
     "output_type": "execute_result"
    }
   ],
   "source": [
    "my_mixed_dictionary[\"key3\"][2] #kodun tamamı bir sözcük olmasına rağmen, sözlüğün içerisinde yer alan bir liste, typeı liste olarak getirebiliyor."
   ]
  },
  {
   "cell_type": "code",
   "execution_count": 43,
   "id": "203ee69b",
   "metadata": {
    "scrolled": true
   },
   "outputs": [
    {
     "data": {
      "text/plain": [
       "float"
      ]
     },
     "execution_count": 43,
     "metadata": {},
     "output_type": "execute_result"
    }
   ],
   "source": [
    "type(my_mixed_dictionary[\"key2\"])"
   ]
  },
  {
   "cell_type": "code",
   "execution_count": 44,
   "id": "ba7ca4e3",
   "metadata": {},
   "outputs": [],
   "source": [
    "last_dictionary = {\"k1\":10,\"k2\":[10,20,30,40,50],\"k3\":\"string\",\"k4\":{\"a\":100,\"b\":200}}"
   ]
  },
  {
   "cell_type": "code",
   "execution_count": 58,
   "id": "468609df",
   "metadata": {},
   "outputs": [
    {
     "data": {
      "text/plain": [
       "200"
      ]
     },
     "execution_count": 58,
     "metadata": {},
     "output_type": "execute_result"
    }
   ],
   "source": [
    "last_dictionary[\"k4\"][\"b\"] # parantezleri alt küme olarak düşünebiliriz. önce k4 sonrasında k4 içindeki b'yi aldık."
   ]
  },
  {
   "cell_type": "code",
   "execution_count": 65,
   "id": "0d9054ce",
   "metadata": {},
   "outputs": [
    {
     "data": {
      "text/plain": [
       "40"
      ]
     },
     "execution_count": 65,
     "metadata": {},
     "output_type": "execute_result"
    }
   ],
   "source": [
    "last_dictionary[\"k2\"][3]"
   ]
  }
 ],
 "metadata": {
  "kernelspec": {
   "display_name": "Python 3 (ipykernel)",
   "language": "python",
   "name": "python3"
  },
  "language_info": {
   "codemirror_mode": {
    "name": "ipython",
    "version": 3
   },
   "file_extension": ".py",
   "mimetype": "text/x-python",
   "name": "python",
   "nbconvert_exporter": "python",
   "pygments_lexer": "ipython3",
   "version": "3.9.7"
  }
 },
 "nbformat": 4,
 "nbformat_minor": 5
}
